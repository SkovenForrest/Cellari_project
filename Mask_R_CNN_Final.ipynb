{
  "nbformat": 4,
  "nbformat_minor": 0,
  "metadata": {
    "accelerator": "GPU",
    "colab": {
      "name": "Mask_R-CNN_Final.ipynb",
      "provenance": []
    },
    "kernelspec": {
      "display_name": "Python 3",
      "language": "python",
      "name": "python3"
    },
    "language_info": {
      "codemirror_mode": {
        "name": "ipython",
        "version": 3
      },
      "file_extension": ".py",
      "mimetype": "text/x-python",
      "name": "python",
      "nbconvert_exporter": "python",
      "pygments_lexer": "ipython3",
      "version": "3.7.6"
    }
  },
  "cells": [
    {
      "cell_type": "markdown",
      "metadata": {
        "id": "ABxo1s-_cx4s"
      },
      "source": [
        "#Load data"
      ]
    },
    {
      "cell_type": "code",
      "metadata": {
        "colab": {
          "base_uri": "https://localhost:8080/"
        },
        "id": "_0JxA5o7cxiG",
        "outputId": "ad6f8b5d-3d34-4dbc-a903-8c31ffabd33f"
      },
      "source": [
        "import torch\n",
        "import torchvision.transforms as transforms\n",
        "import numpy as np\n",
        "from torch.utils.data import DataLoader, Dataset\n",
        "import glob\n",
        "!pip install natsort\n",
        "import natsort\n",
        "from PIL import Image\n",
        "import matplotlib.pyplot as plt\n",
        "import cv2\n"
      ],
      "execution_count": 1,
      "outputs": [
        {
          "output_type": "stream",
          "text": [
            "Requirement already satisfied: natsort in /usr/local/lib/python3.6/dist-packages (5.5.0)\n"
          ],
          "name": "stdout"
        }
      ]
    },
    {
      "cell_type": "code",
      "metadata": {
        "colab": {
          "base_uri": "https://localhost:8080/"
        },
        "id": "JKzGro_PeL12",
        "outputId": "9b30c972-825d-4cc3-9b8b-dcdf89332f13"
      },
      "source": [
        "from google.colab import drive\n",
        "drive.mount('/content/drive')"
      ],
      "execution_count": 2,
      "outputs": [
        {
          "output_type": "stream",
          "text": [
            "Drive already mounted at /content/drive; to attempt to forcibly remount, call drive.mount(\"/content/drive\", force_remount=True).\n"
          ],
          "name": "stdout"
        }
      ]
    },
    {
      "cell_type": "code",
      "metadata": {
        "id": "7O2I9LBjeNkm"
      },
      "source": [
        "#images_path = '/kaggle/input/gland-data/Gland_dataset/*'\n",
        "#!ls drive/'My Drive'\n",
        "!ls drive/'My Drive/Cellari_project/Gland_dataset' &> /dev/null\n",
        "\n",
        "images_path = 'drive/My Drive/Cellari_project/Gland_dataset/*'\n"
      ],
      "execution_count": 3,
      "outputs": []
    },
    {
      "cell_type": "code",
      "metadata": {
        "id": "C8tHAvQcel06"
      },
      "source": [
        "images = []\n",
        "masks = []\n",
        "\n",
        "# image preperation\n",
        "train_images = glob.glob(images_path)\n",
        "sorted_train_images = natsort.natsorted(train_images, reverse=False)\n"
      ],
      "execution_count": 4,
      "outputs": []
    },
    {
      "cell_type": "code",
      "metadata": {
        "colab": {
          "base_uri": "https://localhost:8080/"
        },
        "id": "Y2nGtl6mes-W",
        "outputId": "b101db9c-6df5-4a5e-afb5-570ac4ec186f"
      },
      "source": [
        "for img in train_images:\n",
        "    name_img = img.split(\"/\")[-1].split(\".\")[0]\n",
        "    imagg = name_img.split(\"_\")[-1]\n",
        "    if imagg == \"anno\":\n",
        "        masks.append(img)\n",
        "    else:\n",
        "        images.append(img)\n",
        "\n",
        "print(len(images))\n",
        "print(len(masks))\n",
        "#print(imagg)\n"
      ],
      "execution_count": 5,
      "outputs": [
        {
          "output_type": "stream",
          "text": [
            "145\n",
            "145\n"
          ],
          "name": "stdout"
        }
      ]
    },
    {
      "cell_type": "code",
      "metadata": {
        "id": "iaRLPBgaewcY"
      },
      "source": [
        "train_orig_images = []\n",
        "train_masks = []\n",
        "\n",
        "test_orig_images = []\n",
        "test_masks = []"
      ],
      "execution_count": 6,
      "outputs": []
    },
    {
      "cell_type": "code",
      "metadata": {
        "id": "_69x_AE4eyoQ"
      },
      "source": [
        "for img in images:\n",
        "    name_img = img.split(\"/\")[-1].split(\".\")[0]\n",
        "    imagg = name_img.split(\"_\")[0]\n",
        "    if imagg == \"testA\" or imagg == \"testB\":\n",
        "        test_orig_images.append(img)\n",
        "    else:\n",
        "        train_orig_images.append(img)\n",
        "\n",
        "for mask in masks:\n",
        "    mask_img = mask.split(\"/\")[-1].split(\".\")[0]\n",
        "    imagg = mask_img.split(\"_\")[0]\n",
        "    if imagg == \"testA\" or imagg == \"testB\":\n",
        "        test_masks.append(mask)\n",
        "    else:\n",
        "        train_masks.append(mask)\n"
      ],
      "execution_count": 7,
      "outputs": []
    },
    {
      "cell_type": "code",
      "metadata": {
        "colab": {
          "base_uri": "https://localhost:8080/"
        },
        "id": "fXxWr7RHezt0",
        "outputId": "2e58563e-9b53-4afe-e60e-9493c02a20e0"
      },
      "source": [
        "print(len(train_orig_images), len(train_masks))\n",
        "print(len(test_orig_images), len(test_masks))"
      ],
      "execution_count": 8,
      "outputs": [
        {
          "output_type": "stream",
          "text": [
            "85 85\n",
            "60 60\n"
          ],
          "name": "stdout"
        }
      ]
    },
    {
      "cell_type": "code",
      "metadata": {
        "id": "cFqTUxpPe1Cr"
      },
      "source": [
        "sorted_train_images = natsort.natsorted(train_orig_images, reverse=False)\n",
        "sorted_train_masks = natsort.natsorted(train_masks, reverse=False)\n",
        "\n",
        "sorted_test_images = natsort.natsorted(test_orig_images, reverse=False)\n",
        "sorted_test_masks = natsort.natsorted(test_masks, reverse=False)"
      ],
      "execution_count": 9,
      "outputs": []
    },
    {
      "cell_type": "code",
      "metadata": {
        "id": "hKxMkGUee31e"
      },
      "source": [
        "#mean = (0.485, 0.456, 0.406)\n",
        "#std = (0.229, 0.224, 0.225)\n",
        "#mean = np.array([0.5, 0.5, 0.5])\n",
        "#std = np.array([0.5, 0.5, 0.5])\n",
        "mean = np.array([0.7874, 0.5112, 0.7851])\n",
        "std = np.array([0.1522, 0.2089, 0.111])\n",
        "\n",
        "transformations = transforms.Compose([transforms.Resize((512,512)) , transforms.ToTensor() , transforms.Normalize(mean, std)])\n",
        "\n"
      ],
      "execution_count": 10,
      "outputs": []
    },
    {
      "cell_type": "code",
      "metadata": {
        "colab": {
          "base_uri": "https://localhost:8080/",
          "height": 286
        },
        "id": "OEOJz4mUwH0U",
        "outputId": "c4e0038a-a5c5-4674-efd3-dde997a4cc3c"
      },
      "source": [
        "from PIL import Image\n",
        "import matplotlib.pyplot as plt\n",
        "from skimage.transform import resize\n",
        "img = Image.open(sorted_train_images[61]).convert(\"RGB\")\n",
        "#img = img.resize((512,512))\n",
        "plt.imshow(img)"
      ],
      "execution_count": 11,
      "outputs": [
        {
          "output_type": "execute_result",
          "data": {
            "text/plain": [
              "<matplotlib.image.AxesImage at 0x7fc65f38ee48>"
            ]
          },
          "metadata": {
            "tags": []
          },
          "execution_count": 11
        },
        {
          "output_type": "display_data",
          "data": {
            "image/png": "[encoded data removed]",
            "text/plain": [
              "<Figure size 432x288 with 1 Axes>"
            ]
          },
          "metadata": {
            "tags": [],
            "needs_background": "light"
          }
        }
      ]
    },
    {
      "cell_type": "code",
      "metadata": {
        "colab": {
          "base_uri": "https://localhost:8080/",
          "height": 286
        },
        "id": "ygseWW6qXWoM",
        "outputId": "c1b14ff3-9238-4005-898f-f69a942965d8"
      },
      "source": [
        "#check mask\n",
        "mask = Image.open(sorted_train_masks[61])\n",
        "#mask = mask.resize((512,512))\n",
        "\n",
        "plt.imshow(mask)"
      ],
      "execution_count": 12,
      "outputs": [
        {
          "output_type": "execute_result",
          "data": {
            "text/plain": [
              "<matplotlib.image.AxesImage at 0x7fc65eef3710>"
            ]
          },
          "metadata": {
            "tags": []
          },
          "execution_count": 12
        },
        {
          "output_type": "display_data",
          "data": {
            "image/png": "[encoded data removed]",
            "text/plain": [
              "<Figure size 432x288 with 1 Axes>"
            ]
          },
          "metadata": {
            "tags": [],
            "needs_background": "light"
          }
        }
      ]
    },
    {
      "cell_type": "code",
      "metadata": {
        "colab": {
          "base_uri": "https://localhost:8080/"
        },
        "id": "jsnAN7O4stDL",
        "outputId": "c54d4781-1835-4f6d-e2bf-df16d560a4b3"
      },
      "source": [
        "print(type(img))\n",
        "print(type(mask))\n",
        "print(img.size)"
      ],
      "execution_count": 13,
      "outputs": [
        {
          "output_type": "stream",
          "text": [
            "<class 'PIL.Image.Image'>\n",
            "<class 'PIL.BmpImagePlugin.BmpImageFile'>\n",
            "(775, 522)\n"
          ],
          "name": "stdout"
        }
      ]
    },
    {
      "cell_type": "code",
      "metadata": {
        "id": "Bw0U6jgtlinW"
      },
      "source": [
        "\n"
      ],
      "execution_count": 13,
      "outputs": []
    },
    {
      "cell_type": "code",
      "metadata": {
        "id": "yPK1WmL7GZgZ"
      },
      "source": [
        ""
      ],
      "execution_count": 13,
      "outputs": []
    },
    {
      "cell_type": "code",
      "metadata": {
        "id": "G5D2IMjhctiI"
      },
      "source": [
        "import os\n",
        "import numpy as np\n",
        "import torch\n",
        "from PIL import Image\n",
        "import torchvision.transforms as TF\n",
        "import random\n",
        "\n",
        "\n",
        "class CellarDataset(object):\n",
        "    def __init__(self, images, masks, transforms,train):\n",
        "        self.transforms = transforms\n",
        "        # load all image files, sorting them to\n",
        "        # ensure that they are aligned\n",
        "        self.imgs = images\n",
        "        self.masks = masks\n",
        "        self.transforms = transforms\n",
        "        self.train = train\n",
        "\n",
        "    def __getitem__(self, idx):\n",
        "        #print(\"current idx =\",idx)\n",
        "        #print(\"len self.imgs =\",len(self.imgs))\n",
        "        img = Image.open(self.imgs[idx]).convert(\"RGB\")\n",
        "        #img = img.resize((512,512))\n",
        "        # note that we haven't converted the mask to RGB,\n",
        "        # because each color corresponds to a different instance\n",
        "        # with 0 being background\n",
        "        mask = Image.open(self.masks[idx])\n",
        "        #mask = mask.resize((512,512))\n",
        "        # Random horizontal flipping\n",
        "        \n",
        "        if(self.train):\n",
        "            \"\"\"\n",
        "            #pad img if too small\n",
        "            row,col = img.size\n",
        "            if row<512:\n",
        "\n",
        "                amount_of_padding =int((512-row)/2)\n",
        "                if amount_of_padding %2 ==0:\n",
        "                    padding = TF.Pad((amount_of_padding,0))\n",
        "                else:\n",
        "                    padding = TF.Pad((amount_of_padding+1,0))\n",
        "\n",
        "                img = padding(img)\n",
        "                mask = padding(mask)\n",
        "            if col<512:\n",
        "                amount_of_padding =int((512-col)/2)\n",
        "\n",
        "                if amount_of_padding %2 ==0:\n",
        "                    padding = TF.Pad((0,amount_of_padding))\n",
        "                else:\n",
        "                    padding = TF.Pad((0,amount_of_padding+1))\n",
        "                img = padding(img)\n",
        "                mask = padding(mask)\n",
        "\n",
        "            # Random crop\n",
        "            i, j, h, w = TF.RandomCrop.get_params(img, output_size=(512, 512))\n",
        "            img = TF.functional.crop(img, i, j, h, w)\n",
        "            mask = TF.functional.crop(mask, i, j, h, w)\n",
        "            \"\"\"\n",
        "            \n",
        "            if random.random() > 0.5:\n",
        "                img = TF.functional.hflip(img)\n",
        "                mask = TF.functional.hflip(mask)\n",
        "\n",
        "            # Random vertical flipping\n",
        "            if random.random() > 0.5:\n",
        "                img = TF.functional.vflip(img)\n",
        "                mask = TF.functional.vflip(mask)\n",
        "            \n",
        "            #if random.random()>0.5:\n",
        "                #my_rotation = TF.RandomRotation(20, expand = True,resample=Image.BILINEAR)\n",
        "                #img = my_rotation(img)\n",
        "                #mask = my_rotation(mask)\n",
        "                \n",
        "            #if random.random()>0.5:\n",
        "                #my_color = TF.ColorJitter(hue=.05, saturation=.05)\n",
        "                #img = my_color(img)\n",
        "    \n",
        "            #if random.random()>0.5:\n",
        "                #my_blur = TF.GaussianBlur(5, sigma=(0.1, 2.0))\n",
        "                #img = my_blur(img)\n",
        "    \n",
        "        mask = np.array(mask)\n",
        "        #convert to black and white image\n",
        "\n",
        "        # instances are encoded as different colors\n",
        "        obj_ids = np.unique(mask)\n",
        "        # first id is the background, so remove it\n",
        "        obj_ids = obj_ids[1:]\n",
        "\n",
        "        # split the color-encoded mask into a set\n",
        "        # of binary masks\n",
        "        masks = mask == obj_ids[:, None, None]\n",
        "\n",
        "        # get bounding box coordinates for each mask\n",
        "        num_objs = len(obj_ids)\n",
        "        boxes = []\n",
        "        for i in range(num_objs):\n",
        "            pos = np.where(masks[i])\n",
        "            xmin = np.min(pos[1])\n",
        "            \n",
        "            xmax = np.max(pos[1])\n",
        "            ymin = np.min(pos[0])\n",
        "            ymax = np.max(pos[0])\n",
        "            if xmax-xmin > 2 and ymax-ymin > 2 :\n",
        "              boxes.append([xmin, ymin, xmax, ymax])\n",
        "            else :\n",
        "              obj_ids = np.delete(obj_ids,i)\n",
        "\n",
        "        # convert everything into a torch.Tensor\n",
        "        boxes = torch.as_tensor(boxes, dtype=torch.float32)\n",
        "        # there is only one class\n",
        "        labels = torch.ones((num_objs,), dtype=torch.int64)\n",
        "        masks = torch.as_tensor(masks, dtype=torch.uint8)\n",
        "\n",
        "        image_id = torch.tensor([idx])\n",
        "        area = (boxes[:, 3] - boxes[:, 1]) * (boxes[:, 2] - boxes[:, 0])\n",
        "        # suppose all instances are not crowd\n",
        "        iscrowd = torch.zeros((num_objs,), dtype=torch.int64)\n",
        "\n",
        "        target = {}\n",
        "        target[\"boxes\"] = boxes\n",
        "        target[\"labels\"] = labels\n",
        "        target[\"masks\"] = masks\n",
        "        target[\"image_id\"] = image_id\n",
        "        target[\"area\"] = area\n",
        "        target[\"iscrowd\"] = iscrowd\n",
        "        #target[\"area\"] = 1 \n",
        "        #target[\"iscrowd\"] = False \n",
        "        \n",
        "        my_to_tensor = TF.ToTensor()\n",
        "        #target = my_to_tensor(target)\n",
        "        img = my_to_tensor(img)\n",
        "        #if self.transforms is not None:\n",
        "        #   img, target = self.transforms(img, target)\n",
        "\n",
        "        return img, target\n",
        "\n",
        "    def __len__(self):\n",
        "        return len(self.imgs)"
      ],
      "execution_count": 14,
      "outputs": []
    },
    {
      "cell_type": "markdown",
      "metadata": {
        "id": "LVdcZiw-dYAK"
      },
      "source": [
        "#Modifying the model from a pretrained RCNN"
      ]
    },
    {
      "cell_type": "code",
      "metadata": {
        "id": "ajmb-i5kdXls"
      },
      "source": [
        ""
      ],
      "execution_count": 14,
      "outputs": []
    },
    {
      "cell_type": "code",
      "metadata": {
        "id": "OSqWUaLrstDN"
      },
      "source": [
        ""
      ],
      "execution_count": 14,
      "outputs": []
    },
    {
      "cell_type": "code",
      "metadata": {
        "id": "NI6jQeKJ509B"
      },
      "source": [
        "import torchvision\n",
        "from torchvision.models.detection.faster_rcnn import FastRCNNPredictor\n",
        "from torchvision.models.detection.mask_rcnn import MaskRCNNPredictor\n",
        "\n",
        "      \n",
        "def get_instance_segmentation_model(num_classes):\n",
        "    # load an instance segmentation model pre-trained on COCO\n",
        "    model = torchvision.models.detection.maskrcnn_resnet50_fpn(pretrained=True)\n",
        "    # get the number of input features for the classifier\n",
        "    in_features = model.roi_heads.box_predictor.cls_score.in_features\n",
        "    # replace the pre-trained head with a new one\n",
        "    model.roi_heads.box_predictor = FastRCNNPredictor(in_features, num_classes)\n",
        "\n",
        "    # now get the number of input features for the mask classifier\n",
        "    in_features_mask = model.roi_heads.mask_predictor.conv5_mask.in_channels\n",
        "    hidden_layer = 256\n",
        "    #hidden_layer = 512\n",
        "    # and replace the mask predictor with a new one\n",
        "    model.roi_heads.mask_predictor = MaskRCNNPredictor(in_features_mask,\n",
        "                                                       hidden_layer,\n",
        "                                                       num_classes)\n",
        "\n",
        "    return model"
      ],
      "execution_count": 15,
      "outputs": []
    },
    {
      "cell_type": "code",
      "metadata": {
        "colab": {
          "base_uri": "https://localhost:8080/"
        },
        "id": "1JsHmhQ0i586",
        "outputId": "23820baf-df30-42b2-94c4-447965f9b8c9"
      },
      "source": [
        "%%bash\n",
        "\n",
        "# Download TorchVision repo to use some files from\n",
        "# references/detection\n",
        "git clone https://github.com/pytorch/vision.git\n",
        "cd vision\n",
        "git checkout v0.3.0\n",
        "\n",
        "cp references/detection/utils.py ../\n",
        "cp references/detection/transforms.py ../\n",
        "cp references/detection/coco_eval.py ../\n",
        "cp references/detection/engine.py ../\n",
        "cp references/detection/coco_utils.py ../"
      ],
      "execution_count": 16,
      "outputs": [
        {
          "output_type": "stream",
          "text": [
            "fatal: destination path 'vision' already exists and is not an empty directory.\n",
            "HEAD is now at be37608 version check against PyTorch's CUDA version\n"
          ],
          "name": "stderr"
        }
      ]
    },
    {
      "cell_type": "code",
      "metadata": {
        "colab": {
          "base_uri": "https://localhost:8080/"
        },
        "id": "i6m9HaYGhylQ",
        "outputId": "17d30fcc-4182-4377-9b42-852fdca9316e"
      },
      "source": [
        "!pip install pycocotools\n",
        "from engine import train_one_epoch, evaluate\n",
        "import utils\n",
        "import transforms as T\n",
        "\n",
        "\n",
        "def get_transform(train):\n",
        "    transforms = []\n",
        "    # converts the image, a PIL image, into a PyTorch Tensor\n",
        "    transforms.append(T.ToTensor())\n",
        "    if train:\n",
        "        # during training, randomly flip the training images\n",
        "        # and ground-truth for data augmentation\n",
        "        transforms.append(T.RandomHorizontalFlip(0.5))\n",
        "        #transforms.append(torchvision.transforms.RandomVerticalFlip(0.5))\n",
        "    return T.Compose(transforms)"
      ],
      "execution_count": 17,
      "outputs": [
        {
          "output_type": "stream",
          "text": [
            "Requirement already satisfied: pycocotools in /usr/local/lib/python3.6/dist-packages (2.0.2)\n",
            "Requirement already satisfied: cython>=0.27.3 in /usr/local/lib/python3.6/dist-packages (from pycocotools) (0.29.21)\n",
            "Requirement already satisfied: setuptools>=18.0 in /usr/local/lib/python3.6/dist-packages (from pycocotools) (51.0.0)\n",
            "Requirement already satisfied: matplotlib>=2.1.0 in /usr/local/lib/python3.6/dist-packages (from pycocotools) (3.2.2)\n",
            "Requirement already satisfied: cycler>=0.10 in /usr/local/lib/python3.6/dist-packages (from matplotlib>=2.1.0->pycocotools) (0.10.0)\n",
            "Requirement already satisfied: python-dateutil>=2.1 in /usr/local/lib/python3.6/dist-packages (from matplotlib>=2.1.0->pycocotools) (2.8.1)\n",
            "Requirement already satisfied: pyparsing!=2.0.4,!=2.1.2,!=2.1.6,>=2.0.1 in /usr/local/lib/python3.6/dist-packages (from matplotlib>=2.1.0->pycocotools) (2.4.7)\n",
            "Requirement already satisfied: numpy>=1.11 in /usr/local/lib/python3.6/dist-packages (from matplotlib>=2.1.0->pycocotools) (1.19.4)\n",
            "Requirement already satisfied: kiwisolver>=1.0.1 in /usr/local/lib/python3.6/dist-packages (from matplotlib>=2.1.0->pycocotools) (1.3.1)\n",
            "Requirement already satisfied: six in /usr/local/lib/python3.6/dist-packages (from cycler>=0.10->matplotlib>=2.1.0->pycocotools) (1.15.0)\n"
          ],
          "name": "stdout"
        }
      ]
    },
    {
      "cell_type": "code",
      "metadata": {
        "id": "1wDPEK0astDO"
      },
      "source": [
        "import math\n",
        "import sys\n",
        "import time\n",
        "import torch\n",
        "\n",
        "import torchvision.models.detection.mask_rcnn\n",
        "\n",
        "from coco_utils import get_coco_api_from_dataset\n",
        "from coco_eval import CocoEvaluator\n",
        "import utils\n",
        "\n",
        "def train_one_epoch(model, optimizer, data_loader, device, epoch, print_freq, loss_train,  loss_val, data_loader_test):\n",
        "    model.train()\n",
        "    metric_logger = utils.MetricLogger(delimiter=\"  \")\n",
        "    metric_logger.add_meter('lr', utils.SmoothedValue(window_size=1, fmt='{value:.6f}'))\n",
        "    header = 'Epoch: [{}]'.format(epoch)\n",
        "\n",
        "    lr_scheduler = None\n",
        "    if epoch == 0:\n",
        "        warmup_factor = 1. / 1000\n",
        "        warmup_iters = min(1000, len(data_loader) - 1)\n",
        "\n",
        "        lr_scheduler = utils.warmup_lr_scheduler(optimizer, warmup_iters, warmup_factor)\n",
        "\n",
        "    for images, targets in metric_logger.log_every(data_loader, print_freq, header):\n",
        "        images = list(image.to(device) for image in images)\n",
        "        targets = [{k: v.to(device) for k, v in t.items()} for t in targets]\n",
        "\n",
        "        loss_dict = model(images, targets)\n",
        "\n",
        "        losses = sum(loss for loss in loss_dict.values())\n",
        "\n",
        "        # reduce losses over all GPUs for logging purposes\n",
        "        loss_dict_reduced = utils.reduce_dict(loss_dict)\n",
        "        losses_reduced = sum(loss for loss in loss_dict_reduced.values())\n",
        "\n",
        "        loss_value = losses_reduced.item()\n",
        "        loss_train.append(loss_value)\n",
        "\n",
        "        if not math.isfinite(loss_value):\n",
        "            print(\"Loss is {}, stopping training\".format(loss_value))\n",
        "            print(loss_dict_reduced)\n",
        "            sys.exit(1)\n",
        "\n",
        "        optimizer.zero_grad()\n",
        "        losses.backward()\n",
        "        optimizer.step()\n",
        "\n",
        "        if lr_scheduler is not None:\n",
        "            lr_scheduler.step()\n",
        "\n",
        "        metric_logger.update(loss=losses_reduced, **loss_dict_reduced)\n",
        "        metric_logger.update(lr=optimizer.param_groups[0][\"lr\"])\n",
        "        #my_loss_train.append(metric_logger)\n",
        "\n",
        "    for images, targets in metric_logger.log_every(data_loader_test, 60, header):\n",
        "        images = list(image.to(device) for image in images)\n",
        "        targets = [{k: v.to(device) for k, v in t.items()} for t in targets]\n",
        "\n",
        "        loss_dict = model(images, targets)\n",
        "\n",
        "        losses = sum(loss for loss in loss_dict.values())\n",
        "\n",
        "        # reduce losses over all GPUs for logging purposes\n",
        "        loss_dict_reduced = utils.reduce_dict(loss_dict)\n",
        "        losses_reduced = sum(loss for loss in loss_dict_reduced.values())\n",
        "\n",
        "        loss_value = losses_reduced.item()\n",
        "        loss_val.append(loss_value)\n",
        "    return metric_logger\n",
        "\n",
        "\n",
        "def _get_iou_types(model):\n",
        "    model_without_ddp = model\n",
        "    if isinstance(model, torch.nn.parallel.DistributedDataParallel):\n",
        "        model_without_ddp = model.module\n",
        "    iou_types = [\"bbox\"]\n",
        "    if isinstance(model_without_ddp, torchvision.models.detection.MaskRCNN):\n",
        "        iou_types.append(\"segm\")\n",
        "    if isinstance(model_without_ddp, torchvision.models.detection.KeypointRCNN):\n",
        "        iou_types.append(\"keypoints\")\n",
        "    return iou_types\n",
        "\n",
        "\n",
        "@torch.no_grad()\n",
        "def evaluate(model, data_loader, device):\n",
        "    n_threads = torch.get_num_threads()\n",
        "    # FIXME remove this and make paste_masks_in_image run on the GPU\n",
        "    torch.set_num_threads(1)\n",
        "    cpu_device = torch.device(\"cpu\")\n",
        "    model.eval()\n",
        "    metric_logger = utils.MetricLogger(delimiter=\"  \")\n",
        "    header = 'Test:'\n",
        "\n",
        "    coco = get_coco_api_from_dataset(data_loader.dataset)\n",
        "    iou_types = _get_iou_types(model)\n",
        "    coco_evaluator = CocoEvaluator(coco, iou_types)\n",
        "\n",
        "    for images, targets in metric_logger.log_every(data_loader, 100, header):\n",
        "        images = list(img.to(device) for img in images)\n",
        "\n",
        "        torch.cuda.synchronize()\n",
        "        model_time = time.time()\n",
        "        outputs = model(images)\n",
        "\n",
        "        outputs = [{k: v.to(cpu_device) for k, v in t.items()} for t in outputs]\n",
        "        model_time = time.time() - model_time\n",
        "\n",
        "        res = {target[\"image_id\"].item(): output for target, output in zip(targets, outputs)}\n",
        "        evaluator_time = time.time()\n",
        "        coco_evaluator.update(res)\n",
        "        evaluator_time = time.time() - evaluator_time\n",
        "        metric_logger.update(model_time=model_time, evaluator_time=evaluator_time)\n",
        "\n",
        "    # gather the stats from all processes\n",
        "    metric_logger.synchronize_between_processes()\n",
        "    #print(\"Averaged stats:\", metric_logger)\n",
        "    coco_evaluator.synchronize_between_processes()\n",
        "    \n",
        "    # accumulate predictions from all images\n",
        "    coco_evaluator.accumulate()\n",
        "    coco_evaluator.summarize()\n",
        "    torch.set_num_threads(n_threads)\n",
        "    return coco_evaluator"
      ],
      "execution_count": 18,
      "outputs": []
    },
    {
      "cell_type": "code",
      "metadata": {
        "colab": {
          "base_uri": "https://localhost:8080/"
        },
        "id": "uLBiKVunjKV9",
        "outputId": "7212bb26-4d64-430b-ddc9-33c8feb8fe30"
      },
      "source": [
        "# use our dataset and defined transformations\n",
        "dataset = CellarDataset(sorted_train_images,sorted_train_masks,get_transform(train=True),True)\n",
        "dataset_test = CellarDataset(sorted_test_images,sorted_test_masks,get_transform(train=False),False)\n",
        "\n",
        "# split the dataset in train and test set\n",
        "torch.manual_seed(1)\n",
        "indices_train = torch.randperm(len(dataset)).tolist()\n",
        "indices_test = torch.randperm(len(dataset_test)).tolist()\n",
        "#dataset = torch.utils.data.Subset(dataset, indices[:-50])\n",
        "#dataset_test = torch.utils.data.Subset(dataset_test, indices[-50:])\n",
        "#dataset = torch.utils.data.Subset(dataset, indices_train[:])\n",
        "#dataset_test = torch.utils.data.Subset(dataset_test, indices_test[:])\n",
        "dataset = torch.utils.data.Subset(dataset, indices_train[:])\n",
        "dataset_test = torch.utils.data.Subset(dataset_test, indices_test[:])\n",
        "\n",
        "# define training and validation data loaders\n",
        "data_loader = torch.utils.data.DataLoader(\n",
        "    dataset, batch_size=5, shuffle=True, num_workers=4,\n",
        "    collate_fn=utils.collate_fn)\n",
        "\n",
        "data_loader_test = torch.utils.data.DataLoader(\n",
        "    dataset_test, batch_size=1, shuffle=False, num_workers=4,\n",
        "    collate_fn=utils.collate_fn)\n",
        "\n",
        "\n",
        "print(indices_train)\n",
        "print(len(dataset))"
      ],
      "execution_count": 19,
      "outputs": [
        {
          "output_type": "stream",
          "text": [
            "[70, 60, 72, 5, 83, 78, 33, 48, 8, 9, 6, 44, 3, 84, 26, 55, 37, 74, 14, 71, 25, 58, 75, 39, 68, 61, 18, 57, 66, 4, 21, 69, 32, 11, 29, 30, 40, 67, 22, 43, 15, 82, 51, 54, 63, 50, 0, 46, 81, 53, 79, 2, 56, 77, 59, 24, 76, 23, 20, 35, 7, 36, 65, 62, 73, 12, 28, 42, 10, 49, 17, 27, 13, 38, 80, 34, 19, 47, 64, 52, 1, 31, 16, 41, 45]\n",
            "85\n"
          ],
          "name": "stdout"
        }
      ]
    },
    {
      "cell_type": "code",
      "metadata": {
        "id": "aWDLKqwMstDP"
      },
      "source": [
        ""
      ],
      "execution_count": 19,
      "outputs": []
    },
    {
      "cell_type": "code",
      "metadata": {
        "id": "033bq4rL6bnN"
      },
      "source": [
        "device = torch.device('cuda') if torch.cuda.is_available() else torch.device('cpu')\n",
        "\n",
        "# our dataset has two classes only - background and person\n",
        "num_classes = 2\n",
        "\n",
        "# get the model using our helper function\n",
        "model = get_instance_segmentation_model(num_classes)\n",
        "# move model to the right device\n",
        "model.to(device)\n",
        "\n",
        "# construct an optimizer\n",
        "params = [p for p in model.parameters() if p.requires_grad]\n",
        "optimizer = torch.optim.SGD(params, lr=0.005,momentum=0.9, weight_decay=0.0005)\n",
        "#optimizer = torch.optim.SGD(params, lr=0.005,momentum=0.9, weight_decay=0.0005)\n",
        "                            \n",
        "#optimizer = torch.optim.Adam(params, lr=0.005, weight_decay=0.0005)\n",
        "\n",
        "# and a learning rate scheduler which decreases the learning rate by\n",
        "# 10x every 3 epochs\n",
        "lr_scheduler = torch.optim.lr_scheduler.StepLR(optimizer,\n",
        "                                               step_size=20,\n",
        "                                               gamma=0.1)"
      ],
      "execution_count": 20,
      "outputs": []
    },
    {
      "cell_type": "code",
      "metadata": {
        "colab": {
          "base_uri": "https://localhost:8080/"
        },
        "id": "OM_CyczhmNhi",
        "outputId": "b23c0fe7-441c-4371-8250-1d38c3a8d2bd"
      },
      "source": [
        "# let's train it for 10 epochs\n",
        "num_epochs = 60                                                                                                                                                                                                                                                                                                                                                                                                                                                                                                                                                                                                                                                                                                                                                                                                     \n",
        "loss_val = []\n",
        "loss_train = []\n",
        "\n",
        "for epoch in range(num_epochs):\n",
        "    # train for one epoch, printing every 10 iterations\n",
        "    train_one_epoch(model, optimizer, data_loader, device, epoch, 60,loss_train, loss_val,data_loader_test)\n",
        "    # update the learning rate\n",
        "    lr_scheduler.step()\n",
        "    # evaluate on the test dataset\n",
        "    evaluate(model, data_loader_test, device=device)"
      ],
      "execution_count": null,
      "outputs": [
        {
          "output_type": "stream",
          "text": [
            "/usr/local/lib/python3.6/dist-packages/torch/nn/functional.py:3103: UserWarning: The default behavior for interpolate/upsample with float scale_factor changed in 1.6.0 to align with other frameworks/libraries, and now uses scale_factor directly, instead of relying on the computed output size. If you wish to restore the old behavior, please set recompute_scale_factor=True. See the documentation of nn.Upsample for details. \n",
            "  warnings.warn(\"The default behavior for interpolate/upsample with float scale_factor changed \"\n"
          ],
          "name": "stderr"
        }
      ]
    },
    {
      "cell_type": "code",
      "metadata": {
        "id": "8BkIgY_KstDR"
      },
      "source": [
        "\n",
        "#plot training loss\n",
        "batches = []\n",
        "selected_validation = []\n",
        "for i in range(0,len(loss_train)):\n",
        "    batches.append(i+1)\n",
        "plt.plot(batches,loss_train,label = \"Training loss\")\n",
        "\n",
        "plt.xlabel('batch number')\n",
        "plt.ylabel('loss')\n",
        "plt.title('Training loss')\n",
        "plt.legend()\n",
        "plt.show()\n",
        "\n",
        "batches = []\n",
        "selected_validation = []\n",
        "batches_val = []\n",
        "for i in range(0,len(loss_val)):\n",
        "    batches.append(i+1)\n",
        "\n",
        "selected_validation = []\n",
        "for i in range(0,len(loss_val),60):\n",
        "    selected_validation.append((np.sum(np.array(loss_val[i:i+59]))/60))\n",
        "\n",
        "selected_training = []\n",
        "for i in range(0,len(loss_train),17):\n",
        "    selected_training.append((np.sum(np.array(loss_train[i:i+16]))/17))\n",
        "#for i in range(0,len(loss_train),11):\n",
        "    #selected_training.append((np.sum(np.array(loss_train[i:i+10]))/11))\n",
        "\n",
        "\n",
        "for i in range(0,len(selected_validation)):\n",
        "    batches_val.append(i+1)\n",
        "\n",
        "plt.plot(batches_val,selected_validation,label = \"Validation loss\")\n",
        "plt.plot(batches_val,selected_training,label = \"training loss\")\n",
        "plt.xlabel('epoch')\n",
        "plt.ylabel('loss')\n",
        "plt.title(' Validation loss')\n",
        "plt.legend()\n",
        "plt.show()"
      ],
      "execution_count": null,
      "outputs": []
    },
    {
      "cell_type": "code",
      "metadata": {
        "id": "pm3EYzjg-BIb"
      },
      "source": [
        "# pick one image from the test set\n",
        "img, features = dataset_test[0]\n",
        "# put the model in evaluation mode\n",
        "model.eval()\n",
        "with torch.no_grad():\n",
        "    prediction = model([img.to(device)])"
      ],
      "execution_count": null,
      "outputs": []
    },
    {
      "cell_type": "code",
      "metadata": {
        "id": "yn69PilhGFey"
      },
      "source": [
        "masks = features['masks']\n",
        "mask_np = masks.mul(255).permute(1, 2, 0).byte().cpu().numpy()\n",
        "true_mask = None\n",
        "for i in range(0,mask_np.shape[2]):\n",
        "  mask = mask_np[:,:,i]\n",
        "  if i != 0:\n",
        "    true_mask = np.bitwise_or(true_mask,mask)\n",
        "  else:\n",
        "    true_mask = mask\n",
        "\n",
        "plt.imshow(true_mask,cmap='gray')\n",
        "plt.show()"
      ],
      "execution_count": null,
      "outputs": []
    },
    {
      "cell_type": "code",
      "metadata": {
        "id": "suiZl9f1v6fa"
      },
      "source": [
        "img_np = prediction[0]['masks'][:, 0].mul(255).permute(1, 2, 0).byte().cpu().numpy()\n",
        "predicted_cells = None\n",
        "for i in range(0,img_np.shape[2]):\n",
        "  img = img_np[:,:,i]\n",
        "  ret,img = cv2.threshold(img,127,255,cv2.THRESH_BINARY)\n",
        "  if i != 0:\n",
        "    predicted_cells = np.bitwise_or(predicted_cells,img)\n",
        "  else:\n",
        "    predicted_cells = mask\n",
        "\n",
        "plt.imshow(predicted_cells,cmap='gray')\n",
        "#plt.show()"
      ],
      "execution_count": null,
      "outputs": []
    },
    {
      "cell_type": "code",
      "metadata": {
        "id": "_JZBNTCJstDS"
      },
      "source": [
        "#predicted_cells[0:30,0:30]"
      ],
      "execution_count": null,
      "outputs": []
    },
    {
      "cell_type": "code",
      "metadata": {
        "id": "8gk5g_x4cYFw"
      },
      "source": [
        "print(dataset_test)"
      ],
      "execution_count": null,
      "outputs": []
    },
    {
      "cell_type": "code",
      "metadata": {
        "id": "1yORPldZvu9b"
      },
      "source": [
        "!git clone https://github.com/scikit-image/scikit-image.git\n",
        "!cd scikit-image\n",
        "!pip install -e"
      ],
      "execution_count": null,
      "outputs": []
    },
    {
      "cell_type": "code",
      "metadata": {
        "id": "tzrI4Qbgtw02"
      },
      "source": [
        "from skimage.measure import label\n",
        "from skimage import metrics\n",
        "import skimage\n",
        "\n",
        "import numpy as np\n",
        "from scipy.spatial import cKDTree\n",
        "\n",
        "def hausdorff_distance(image0, image1):\n",
        "    a_points = np.transpose(np.nonzero(image0))\n",
        "    b_points = np.transpose(np.nonzero(image1))\n",
        "    if len(a_points) == 0:\n",
        "        return 0 if len(b_points) == 0 else np.inf\n",
        "    elif len(b_points) == 0:\n",
        "        return np.inf\n",
        "\n",
        "    return max(max(cKDTree(a_points).query(b_points, k=1)[0]),\n",
        "               max(cKDTree(b_points).query(a_points, k=1)[0]))"
      ],
      "execution_count": null,
      "outputs": []
    },
    {
      "cell_type": "code",
      "metadata": {
        "id": "B0u5ndR9s-5J"
      },
      "source": [
        "import numpy as np\n",
        "from skimage.measure import label\n",
        "#from skimage.metrics import hausdorff_distance\n",
        "\n",
        "class BinaryImageMetrics():\n",
        "    def __init__(self, y_true, y_pred):\n",
        "        #TODO: Add documentation\n",
        "        #TODO: implement Adjusted Rand Index and https://web.stanford.edu/class/cs273/scribing/2004/class8/scribe8.pdf\n",
        "        \n",
        "        # Numpy have the bug : ValueError: cannot set WRITEABLE flag to True of this array\n",
        "        # That is why we copy the array\n",
        "\n",
        "        # We force the predictions to be binary\n",
        "\n",
        "        y_true = np.copy(y_true)\n",
        "        y_pred = np.copy(y_pred)\n",
        "        y_true[y_true>0]=1\n",
        "        y_pred[y_pred>0] = 1\n",
        "        self.y_true= y_true\n",
        "        self.y_pred = y_pred\n",
        "        self.y_true_label = label(self.y_true)\n",
        "        self.y_pred_label = label(self.y_pred)\n",
        "\n",
        "    def get_count(self):\n",
        "        count_y_true = np.max(self.y_true_label)\n",
        "        count_y_pred = np.max(self.y_pred_label)\n",
        "        if count_y_pred == 0 or count_y_true == 0:\n",
        "            return 0.0\n",
        "        else:\n",
        "            return min(count_y_true/count_y_pred, count_y_pred/count_y_true)\n",
        "\n",
        "    def get_f1(self, y_true=None, y_pred=None):\n",
        "        if y_true is None:\n",
        "            y_true = self.y_true\n",
        "        if y_pred is None:\n",
        "            y_pred = self.y_pred\n",
        "            \n",
        "        if y_true.max() == 0 and y_pred.max()==0:\n",
        "            return 0.0 \n",
        "            \n",
        "        tp, fp, _, fn = self.confusion_matrix(y_true, y_pred)\n",
        "        f1 = 2*tp / (2*tp +fp + fn)\n",
        "        return f1\n",
        "        \n",
        "    def get_iou(self, y_true=None, y_pred=None):\n",
        "        if y_true is None:\n",
        "            y_true = self.y_true\n",
        "        if y_pred is None:\n",
        "            y_pred = self.y_pred\n",
        "            \n",
        "        if y_true.max() == 0 and y_pred.max()==0:\n",
        "            return 0.0 \n",
        "            \n",
        "        tp, fp, _, fn = self.confusion_matrix(y_true, y_pred)\n",
        "        f1 = tp / (tp +fp + fn)\n",
        "        return f1\n",
        "\n",
        "    def get_hausdroff_dist(self, y_true=None, y_pred=None):\n",
        "        if y_true is None:\n",
        "            y_true = self.y_true\n",
        "        if y_pred is None:\n",
        "            y_pred = self.y_pred\n",
        "        \n",
        "        if y_true.max() == 0 or y_pred.max() == 0:\n",
        "            haus_dist = np.sqrt(y_true.shape[0]*y_true.shape[1])\n",
        "        else:\n",
        "            haus_dist = hausdorff_distance(y_true, y_pred)\n",
        "        return haus_dist\n",
        "\n",
        "    def get_iou_obj(self):\n",
        "        iou_obj = 0\n",
        "        total_y_pred = max(np.bincount(self.y_pred.flatten(),minlength=2)[1],1)\n",
        "        total_y_true = max(np.bincount(self.y_true.flatten(), minlength=2)[1],1)\n",
        "\n",
        "        for idx in range(1, self.y_true_label.max()+1):\n",
        "            gi, si = self._get_overlap(idx, return_rectangle=False, y_true_p_switch=False)\n",
        "            iou = (np.bincount(gi.flatten(), minlength=2)[1]/total_y_true)*self.get_iou(y_true=gi, y_pred=si)\n",
        "            iou_obj += iou\n",
        "\n",
        "        for idx in range(1, self.y_pred_label.max()+1):\n",
        "            si, gi = self._get_overlap(idx, return_rectangle=False, y_true_p_switch=True)\n",
        "            iou = (np.bincount(si.flatten(), minlength=2)[1]/total_y_pred)*self.get_iou(y_true=si, y_pred=gi)\n",
        "            iou_obj += iou\n",
        "\n",
        "        iou_obj /= 2\n",
        "\n",
        "        return iou_obj\n",
        "\n",
        "\n",
        "    def get_f1_obj(self):\n",
        "        f1_obj = 0\n",
        "        total_y_pred = max(np.bincount(self.y_pred.flatten(),minlength=2)[1],1)\n",
        "        total_y_true = max(np.bincount(self.y_true.flatten(), minlength=2)[1],1)\n",
        "\n",
        "        for idx in range(1, self.y_true_label.max()+1):\n",
        "            gi, si = self._get_overlap(idx, return_rectangle=False, y_true_p_switch=False)\n",
        "            f1 = (np.bincount(gi.flatten(), minlength=2)[1]/total_y_true)*self.get_f1(y_true=gi, y_pred=si)\n",
        "            f1_obj += f1\n",
        "\n",
        "        for idx in range(1, self.y_pred_label.max()+1):\n",
        "            si, gi = self._get_overlap(idx, return_rectangle=False, y_true_p_switch=True)\n",
        "            f1 = (np.bincount(si.flatten(), minlength=2)[1]/total_y_pred)*self.get_f1(y_true=si, y_pred=gi)\n",
        "            f1_obj += f1\n",
        "\n",
        "        f1_obj /= 2\n",
        "\n",
        "        return f1_obj\n",
        "\n",
        "\n",
        "    def get_hausdorff_obj_distance(self):\n",
        "        haus_dist_obj = 0\n",
        "        total_y_pred = np.bincount(self.y_pred.flatten(), minlength=2)[1]\n",
        "        total_y_true = np.bincount(self.y_true.flatten(), minlength=2)[1]\n",
        "        \n",
        "        if total_y_true == 0 or total_y_pred == 0:\n",
        "            # Note this conversion is different from\n",
        "            # https://warwick.ac.uk/fac/sci/dcs/research/tia/glascontest/evaluation/\n",
        "            # But the Hausdorff distance is not defined for non-overlapping objects.\n",
        "            # Note that the distance of sqrt(h^2+w^2) is an arbary choice.\n",
        "            # 0.0 would skew the distance to much to the positive side, and\n",
        "            # infinite is misleading. \n",
        "            # In case both objects are empty, we return the max dist of y_true\n",
        "            return np.sqrt(self.y_true.shape[0]**2+self.y_true.shape[1]**2)\n",
        "\n",
        "        for idx in range(1, self.y_true_label.max()+1):\n",
        "            gi, si = self._get_overlap(idx, return_rectangle=True, y_true_p_switch=False)\n",
        "            if gi.max() == 0 or si.max() == 0:\n",
        "                haus_dist = ((gi.shape[0]*gi.shape[1])/total_y_true)*np.sqrt(gi.shape[0]**2+gi.shape[1]**2)\n",
        "            else:\n",
        "                haus_dist = (np.bincount(gi.flatten())[1]/total_y_true)*self.get_hausdroff_dist(y_true=gi, y_pred=si)\n",
        "            haus_dist_obj += haus_dist\n",
        "\n",
        "        for idx in range(1, self.y_pred_label.max()+1):\n",
        "            si, gi = self._get_overlap(idx, return_rectangle=True, y_true_p_switch=True)\n",
        "            if gi.max() == 0 or si.max() == 0:\n",
        "                haus_dist = ((si.shape[0]*si.shape[1])/total_y_pred)*np.sqrt(si.shape[0]**2+si.shape[1]**2)\n",
        "            else:\n",
        "                haus_dist = (np.bincount(si.flatten())[1]/total_y_pred)*self.get_hausdroff_dist(y_true=si, y_pred=gi)\n",
        "            haus_dist_obj += haus_dist\n",
        "\n",
        "        haus_dist_obj /= 2\n",
        "        return haus_dist_obj\n",
        "\n",
        "    def confusion_matrix(self, y_true, y_pred):\n",
        "        y_true= y_true.flatten()\n",
        "        y_pred = y_pred.flatten()*2\n",
        "        cm = y_true+y_pred\n",
        "        cm = np.bincount(cm, minlength=4)\n",
        "        tn, fp, fn, tp = cm\n",
        "        return tp, fp, tn, fn\n",
        "    \n",
        "    def _get_overlap(self, idx, return_rectangle=False, y_true_p_switch=False):\n",
        "        if y_true_p_switch:\n",
        "            y_pred = self.y_true_label\n",
        "            y_true = self.y_pred_label\n",
        "        else:\n",
        "            y_true = self.y_true_label\n",
        "            y_pred = self.y_pred_label\n",
        "\n",
        "        roi_y_true = np.argwhere(y_true == idx)\n",
        "        roi_y_pred = y_pred[roi_y_true[:,0],roi_y_true[:,1]]\n",
        "\n",
        "        # Finds max overlap, excluding background\n",
        "        matching_idx = np.bincount(roi_y_pred)\n",
        "        if len(matching_idx)<=1:\n",
        "            matching_idx = -1\n",
        "        else:\n",
        "            matching_idx = matching_idx[1:].argmax()+1\n",
        "        if return_rectangle:\n",
        "            bbox, _, _ = self._bounding_box(roi_y_true, at_origon=False)\n",
        "            roi_y_true = y_true[bbox[0]:bbox[2]+1,bbox[1]:bbox[3]+1]\n",
        "            roi_y_pred = y_pred[bbox[0]:bbox[2]+1,bbox[1]:bbox[3]+1]\n",
        "            roi_y_true =(roi_y_true==idx)*1\n",
        "\n",
        "        else:\n",
        "            roi_y_true = np.ones((len(roi_y_true)),dtype=int)\n",
        "        roi_y_pred = (roi_y_pred==matching_idx)*1\n",
        "        \n",
        "        return roi_y_true, roi_y_pred\n",
        "        \n",
        "    def _bounding_box(self, points, at_origon=False):\n",
        "        bbox = [min(points[:,0]), min(points[:,1]), max(points[:,0]), max(points[:,1])]\n",
        "        min_x = bbox[0]\n",
        "        min_y = bbox[1]\n",
        "        if at_origon:\n",
        "            bbox = [bbox[0] - min_x,\n",
        "                    bbox[1] - min_y,\n",
        "                    bbox[2] - min_x,\n",
        "                    bbox[3] - min_y]\n",
        "        return bbox, min_x, min_y"
      ],
      "execution_count": null,
      "outputs": []
    },
    {
      "cell_type": "code",
      "metadata": {
        "id": "5xeuUQemqs3Z"
      },
      "source": [
        "\n"
      ],
      "execution_count": null,
      "outputs": []
    },
    {
      "cell_type": "code",
      "metadata": {
        "id": "-D6i7h-7mRrM"
      },
      "source": [
        "# pick one image from the test set\n",
        "img, _ = dataset_test[0]\n",
        "# put the model in evaluation mode\n",
        "model.eval()\n",
        "with torch.no_grad():\n",
        "    prediction = model([img.to(device)])"
      ],
      "execution_count": null,
      "outputs": []
    },
    {
      "cell_type": "code",
      "metadata": {
        "id": "1Ds9GZ2LmTq_"
      },
      "source": [
        "my_img = Image.fromarray(prediction[0]['masks'][0, 0].mul(255).byte().cpu().numpy())\n",
        "plt.imshow(my_img )"
      ],
      "execution_count": null,
      "outputs": []
    },
    {
      "cell_type": "code",
      "metadata": {
        "id": "KtoSAlAdstDU"
      },
      "source": [
        "#my_img = np.array(my_img)\n",
        "#my_img[0:30,270:300]"
      ],
      "execution_count": null,
      "outputs": []
    },
    {
      "cell_type": "code",
      "metadata": {
        "id": "JYW7Aag4Du4o"
      },
      "source": [
        "\"\"\"\n",
        "img_np = prediction[0]['masks'][:, 0].mul(255).permute(1, 2, 0).byte().cpu().numpy()\n",
        "print(img_np.shape)\n",
        "predicted_cells = None\n",
        "for i in range(0,img_np.shape[2]):\n",
        "  img = img_np[:,:,i]\n",
        "  if i != 0:\n",
        "    predicted_cells = np.bitwise_or(predicted_cells,img)\n",
        "  else:\n",
        "    predicted_cells = mask\n",
        "\n",
        "plt.imshow(predicted_cells,cmap='gray')\n",
        "plt.show()\n",
        "\"\"\""
      ],
      "execution_count": null,
      "outputs": []
    },
    {
      "cell_type": "code",
      "metadata": {
        "id": "vkiYCNnXmWMg"
      },
      "source": [
        "#Image.fromarray(img.mul(255).permute(1, 2, 0).byte().numpy())"
      ],
      "execution_count": null,
      "outputs": []
    },
    {
      "cell_type": "code",
      "metadata": {
        "id": "J3YJAUbcmYDv"
      },
      "source": [
        "Image.fromarray(prediction[0]['masks'][0, 0].mul(255).byte().cpu().numpy())"
      ],
      "execution_count": null,
      "outputs": []
    },
    {
      "cell_type": "code",
      "metadata": {
        "id": "vz8UJZ-pUbPS"
      },
      "source": [
        "  # display images \n",
        "Image.fromarray(prediction[0]['masks'][1, 0].mul(255).byte().cpu().numpy()) "
      ],
      "execution_count": null,
      "outputs": []
    },
    {
      "cell_type": "code",
      "metadata": {
        "id": "vqMKKws1zz2y"
      },
      "source": [
        "  # display images\n",
        "Image.fromarray(prediction[0]['masks'][2, 0].mul(255).byte().cpu().numpy()) "
      ],
      "execution_count": null,
      "outputs": []
    },
    {
      "cell_type": "code",
      "metadata": {
        "id": "sJ0jdQpiJIel"
      },
      "source": [
        "img2 = dataset_test.dataset.masks[15]\n",
        "img2 = Image.open(img2)\n",
        "plt.imshow(img2)\n"
      ],
      "execution_count": null,
      "outputs": []
    },
    {
      "cell_type": "code",
      "metadata": {
        "id": "VEk84CR4fZjz"
      },
      "source": [
        "print(len(prediction[0]['masks']))\n",
        "print(len(prediction[0]['scores']))\n",
        "print(prediction[0]['scores'])"
      ],
      "execution_count": null,
      "outputs": []
    },
    {
      "cell_type": "code",
      "metadata": {
        "id": "HMVqy5NestDX"
      },
      "source": [
        "count = []\n",
        "f1 = []\n",
        "f1_obj = []\n",
        "iou = []\n",
        "iou_obj = []\n",
        "hausdorff_obj_distance = []\n",
        "\n",
        "for j in range(0,len(dataset_test)):\n",
        "  if j%10 == 0:\n",
        "    print(\"Done with prediction number\",j)\n",
        "  # pick one image from the test set\n",
        "  orig_img, features = dataset_test[j]\n",
        "  # put the model in evaluation mode\n",
        "  model.eval()\n",
        "  with torch.no_grad():\n",
        "      prediction = model([orig_img.to(device)])\n",
        "  # create the true mask of the image\n",
        "\n",
        "  \n",
        "  masks = features['masks']\n",
        "  mask_np = masks.mul(255).permute(1, 2, 0).byte().cpu().numpy()\n",
        "  #true_mask = np.zeros((mask_np.shape[0],mask_np.shape[1]))\n",
        "  for i in range(0,mask_np.shape[2]):\n",
        "    mask = mask_np[:,:,i]\n",
        "    if i == 0:\n",
        "      true_mask = mask \n",
        "    else:\n",
        "      true_mask = np.bitwise_or(true_mask,mask)  \n",
        "\n",
        "  #create the predicted mask of the image\n",
        "  img_np = prediction[0]['masks'][:, 0].mul(255).permute(1, 2, 0).byte().cpu().numpy()\n",
        "  scores = prediction[0]['scores']\n",
        "  \n",
        "  #predicted_cells = np.zeros((img_np.shape[0],img_np.shape[1]))\n",
        "  for k in range(0,img_np.shape[2]):\n",
        "    if scores[k] > 0.5:\n",
        "      img = img_np[:,:,k]\n",
        "      ret,img = cv2.threshold(img,127,255,cv2.THRESH_BINARY)\n",
        "      if k == 0:\n",
        "        predicted_cells = img\n",
        "        \n",
        "      else:\n",
        "        predicted_cells = np.bitwise_or(predicted_cells,img)\n",
        "  # score the pridiction\n",
        "  metrics = BinaryImageMetrics(true_mask, predicted_cells)\n",
        "  count.append(metrics.get_count())\n",
        "  f1.append(metrics.get_f1())\n",
        "  f1_obj.append(metrics.get_f1_obj())\n",
        "  iou.append(metrics.get_iou())\n",
        "  iou_obj.append( metrics.get_iou_obj())\n",
        "  hausdorff_obj_distance.append(metrics.get_hausdorff_obj_distance())\n",
        "\n",
        "#results = [count_avg,f1_avg,f1_obj_avg,iou_avg,iou_obj_avg,hausdorff_obj_distance_avg]\n",
        "#print(results)\n",
        "\n"
      ],
      "execution_count": null,
      "outputs": []
    },
    {
      "cell_type": "code",
      "metadata": {
        "id": "KGhD4NGGstDX"
      },
      "source": [
        "# Importing library \n",
        "import csv \n",
        "  \n",
        "# data to be written row-wise in csv fil \n",
        "data = ( loss_train, loss_val,selected_training,selected_validation,indices_test,count,f1,f1_obj,iou, iou_obj ,hausdorff_obj_distance )\n",
        "\n",
        "# opening the csv file in 'w+' mode \n",
        "file = open('aug_60.csv', 'w+', newline ='') \n",
        "  \n",
        "# writing the data into the file \n",
        "with file:     \n",
        "    write = csv.writer(file) \n",
        "    write.writerows(data) "
      ],
      "execution_count": null,
      "outputs": []
    },
    {
      "cell_type": "code",
      "metadata": {
        "id": "dhHIlfxOstDX"
      },
      "source": [
        "# pick one image from the test set\n",
        "orig_img, features = dataset_test[59]\n",
        "# put the model in evaluation mode\n",
        "model.eval()\n",
        "with torch.no_grad():\n",
        "  prediction = model([orig_img.to(device)])\n",
        "# create the true mask of the image\n",
        "#create the predicted mask of the image\n",
        "img_np = prediction[0]['masks'][:, 0].permute(1, 2, 0).mul(255).byte().cpu().numpy()\n",
        "scores = prediction[0]['scores']\n",
        "for k in range(0,img_np.shape[2]):\n",
        "    if scores[k] > 0.5:\n",
        "      img = img_np[:,:,k]\n",
        "      ret,img = cv2.threshold(img,127,255,cv2.THRESH_BINARY)\n",
        "      if k != 0:\n",
        "        predicted_cells = np.bitwise_or(predicted_cells,img)\n",
        "      else:\n",
        "        predicted_cells = img\n",
        "#my_img = Image.open(sorted_test_images[34]).convert(\"RGB\")\n",
        "my_img = Image.open(sorted_test_images[34]).convert(\"RGB\")\n",
        "my_img = np.array(my_img)\n",
        "my_true_mask = Image.open(sorted_test_masks[34])\n",
        "my_true_mask = np.array(my_true_mask)\n",
        "\n",
        "for i in range(0,len(my_true_mask[:,0])):\n",
        "    for j in range(0,len(my_true_mask[0,:])):\n",
        "        value = my_true_mask[i,j]\n",
        "        if value >0:\n",
        "            my_true_mask[i,j] = 255\n",
        "#ret,my_true_mask = cv2.threshold(my_true_mask,1,255,cv2.THRESH_BINARY)\n",
        "    \n",
        "cv2.imwrite(\"my_img.png\",my_img)\n",
        "cv2.imwrite(\"my_true_mask.png\",my_true_mask)\n",
        "cv2.imwrite(\"my_prediction.png\",predicted_cells)\n",
        "\n",
        "# Find external contours\n",
        "contours, hierarchy = cv2.findContours(predicted_cells,cv2.RETR_EXTERNAL,cv2.CHAIN_APPROX_NONE)\n",
        "contours = np.array(contours)\n",
        "# Iterate over all contours\n",
        "\n",
        "mask_contours, hierarchy = cv2.findContours(my_true_mask,cv2.RETR_EXTERNAL,cv2.CHAIN_APPROX_NONE)\n",
        "my_true_mask = cv2.cvtColor(my_true_mask,cv2.COLOR_GRAY2BGR)\n",
        "for i,c in enumerate(mask_contours):\n",
        "    \n",
        "    cv2.fillPoly(my_true_mask, mask_contours, (0,0,255))\n",
        "for i,c in enumerate(contours):\n",
        "    \n",
        "    cv2.fillPoly(my_true_mask, contours, (255,255,0))\n",
        "    \n",
        "plt.imshow(my_true_mask)\n",
        "cv2.imwrite(\"new_prediction_mask.png\",my_true_mask)\n"
      ],
      "execution_count": null,
      "outputs": []
    },
    {
      "cell_type": "code",
      "metadata": {
        "id": "M-tNnkHjstDY"
      },
      "source": [
        "import colorsys\n",
        "# visualize\n",
        "# pick one image from the test set\n",
        "orig_img, features = dataset_test[25]\n",
        "# put the model in evaluation mode\n",
        "model.eval()\n",
        "with torch.no_grad():\n",
        "  prediction = model([orig_img.to(device)])\n",
        "\n",
        "# create the true mask of the image\n",
        "masks = features['masks']\n",
        "mask_np = masks.permute(1, 2, 0).mul(255).byte().cpu().numpy()\n",
        "for i in range(0,mask_np.shape[2]):\n",
        "    mask = mask_np[:,:,i]\n",
        "    if i != 0:\n",
        "        true_mask = np.bitwise_or(true_mask,mask)\n",
        "    else:\n",
        "        true_mask = mask\n",
        "\n",
        "#create the predicted mask of the image\n",
        "img_np = prediction[0]['masks'][:, 0].permute(1, 2, 0).mul(255).byte().cpu().numpy()\n",
        "scores = prediction[0]['scores']\n",
        "for k in range(0,img_np.shape[2]):\n",
        "    if scores[k] > 0.5:\n",
        "      img = img_np[:,:,k]\n",
        "      if k != 0:\n",
        "        predicted_cells = np.bitwise_or(predicted_cells,img)\n",
        "      else:\n",
        "        predicted_cells = img\n",
        "plt.imshow(prediction[0]['masks'][0, 0].mul(255).byte().cpu().numpy())\n",
        "mean = np.array([0.7874, 0.5112, 0.7851])\n",
        "std = np.array([0.2089, 0.2089, 0.111])\n",
        "inv_normalize = TF.Normalize(mean=[-0.7874*0.1522, -0.5112*0.2089, -0.7851*0.111],std=[1/0.2089, 1/0.2089, 1/0.111])\n",
        "orig_img = inv_normalize(orig_img)\n",
        "\n",
        "orig_img = np.array(orig_img)\n",
        "true_mask = np.array(true_mask)\n",
        "predicted_cells = np.array(predicted_cells)\n",
        "\n",
        "new_img =orig_img.copy()\n",
        "new_true_mask =true_mask.copy()\n",
        "new_predicted_cells = predicted_cells.copy\n",
        "\n",
        "import numpy as np\n",
        "import cv2\n",
        "\n",
        "\n",
        "#pick one image from the test set\n",
        "orig_img, features = dataset_test[25]\n",
        "# put the model in evaluation mode\n",
        "model.eval()\n",
        "with torch.no_grad():\n",
        "  prediction = model([orig_img.to(device)])\n",
        "\n"
      ],
      "execution_count": null,
      "outputs": []
    }
  ]
}