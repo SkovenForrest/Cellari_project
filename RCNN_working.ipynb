{
  "nbformat": 4,
  "nbformat_minor": 0,
  "metadata": {
    "accelerator": "GPU",
    "colab": {
      "name": "RCNN_working.ipynb",
      "provenance": [],
      "collapsed_sections": [],
      "authorship_tag": "ABX9TyOuC5VDTAEkJ3jasv3mYvAg",
      "include_colab_link": true
    },
    "kernelspec": {
      "display_name": "Python 3",
      "name": "python3"
    },
    "widgets": {
      "application/vnd.jupyter.widget-state+json": {
        "c7155ec90c734ea089f08b06d1403764": {
          "model_module": "@jupyter-widgets/controls",
          "model_name": "HBoxModel",
          "state": {
            "_view_name": "HBoxView",
            "_dom_classes": [],
            "_model_name": "HBoxModel",
            "_view_module": "@jupyter-widgets/controls",
            "_model_module_version": "1.5.0",
            "_view_count": null,
            "_view_module_version": "1.5.0",
            "box_style": "",
            "layout": "IPY_MODEL_6f08e9acac0d481b99de0b8a37b3ff60",
            "_model_module": "@jupyter-widgets/controls",
            "children": [
              "IPY_MODEL_66b2de5d789a42fb91d5805e87d11027",
              "IPY_MODEL_006b1c8680924648aa723e6b798bd9a3"
            ]
          }
        },
        "6f08e9acac0d481b99de0b8a37b3ff60": {
          "model_module": "@jupyter-widgets/base",
          "model_name": "LayoutModel",
          "state": {
            "_view_name": "LayoutView",
            "grid_template_rows": null,
            "right": null,
            "justify_content": null,
            "_view_module": "@jupyter-widgets/base",
            "overflow": null,
            "_model_module_version": "1.2.0",
            "_view_count": null,
            "flex_flow": null,
            "width": null,
            "min_width": null,
            "border": null,
            "align_items": null,
            "bottom": null,
            "_model_module": "@jupyter-widgets/base",
            "top": null,
            "grid_column": null,
            "overflow_y": null,
            "overflow_x": null,
            "grid_auto_flow": null,
            "grid_area": null,
            "grid_template_columns": null,
            "flex": null,
            "_model_name": "LayoutModel",
            "justify_items": null,
            "grid_row": null,
            "max_height": null,
            "align_content": null,
            "visibility": null,
            "align_self": null,
            "height": null,
            "min_height": null,
            "padding": null,
            "grid_auto_rows": null,
            "grid_gap": null,
            "max_width": null,
            "order": null,
            "_view_module_version": "1.2.0",
            "grid_template_areas": null,
            "object_position": null,
            "object_fit": null,
            "grid_auto_columns": null,
            "margin": null,
            "display": null,
            "left": null
          }
        },
        "66b2de5d789a42fb91d5805e87d11027": {
          "model_module": "@jupyter-widgets/controls",
          "model_name": "FloatProgressModel",
          "state": {
            "_view_name": "ProgressView",
            "style": "IPY_MODEL_ab2e9563f6f343c39713bbdc83257b59",
            "_dom_classes": [],
            "description": "100%",
            "_model_name": "FloatProgressModel",
            "bar_style": "success",
            "max": 14212972,
            "_view_module": "@jupyter-widgets/controls",
            "_model_module_version": "1.5.0",
            "value": 14212972,
            "_view_count": null,
            "_view_module_version": "1.5.0",
            "orientation": "horizontal",
            "min": 0,
            "description_tooltip": null,
            "_model_module": "@jupyter-widgets/controls",
            "layout": "IPY_MODEL_2db79f36bee54e799accd7bd33ee4109"
          }
        },
        "006b1c8680924648aa723e6b798bd9a3": {
          "model_module": "@jupyter-widgets/controls",
          "model_name": "HTMLModel",
          "state": {
            "_view_name": "HTMLView",
            "style": "IPY_MODEL_b909e22829fc4f5ba5b308a895842109",
            "_dom_classes": [],
            "description": "",
            "_model_name": "HTMLModel",
            "placeholder": "​",
            "_view_module": "@jupyter-widgets/controls",
            "_model_module_version": "1.5.0",
            "value": " 13.6M/13.6M [00:03&lt;00:00, 3.91MB/s]",
            "_view_count": null,
            "_view_module_version": "1.5.0",
            "description_tooltip": null,
            "_model_module": "@jupyter-widgets/controls",
            "layout": "IPY_MODEL_11c63036cfda48faa179ba5f16504db4"
          }
        },
        "ab2e9563f6f343c39713bbdc83257b59": {
          "model_module": "@jupyter-widgets/controls",
          "model_name": "ProgressStyleModel",
          "state": {
            "_view_name": "StyleView",
            "_model_name": "ProgressStyleModel",
            "description_width": "initial",
            "_view_module": "@jupyter-widgets/base",
            "_model_module_version": "1.5.0",
            "_view_count": null,
            "_view_module_version": "1.2.0",
            "bar_color": null,
            "_model_module": "@jupyter-widgets/controls"
          }
        },
        "2db79f36bee54e799accd7bd33ee4109": {
          "model_module": "@jupyter-widgets/base",
          "model_name": "LayoutModel",
          "state": {
            "_view_name": "LayoutView",
            "grid_template_rows": null,
            "right": null,
            "justify_content": null,
            "_view_module": "@jupyter-widgets/base",
            "overflow": null,
            "_model_module_version": "1.2.0",
            "_view_count": null,
            "flex_flow": null,
            "width": null,
            "min_width": null,
            "border": null,
            "align_items": null,
            "bottom": null,
            "_model_module": "@jupyter-widgets/base",
            "top": null,
            "grid_column": null,
            "overflow_y": null,
            "overflow_x": null,
            "grid_auto_flow": null,
            "grid_area": null,
            "grid_template_columns": null,
            "flex": null,
            "_model_name": "LayoutModel",
            "justify_items": null,
            "grid_row": null,
            "max_height": null,
            "align_content": null,
            "visibility": null,
            "align_self": null,
            "height": null,
            "min_height": null,
            "padding": null,
            "grid_auto_rows": null,
            "grid_gap": null,
            "max_width": null,
            "order": null,
            "_view_module_version": "1.2.0",
            "grid_template_areas": null,
            "object_position": null,
            "object_fit": null,
            "grid_auto_columns": null,
            "margin": null,
            "display": null,
            "left": null
          }
        },
        "b909e22829fc4f5ba5b308a895842109": {
          "model_module": "@jupyter-widgets/controls",
          "model_name": "DescriptionStyleModel",
          "state": {
            "_view_name": "StyleView",
            "_model_name": "DescriptionStyleModel",
            "description_width": "",
            "_view_module": "@jupyter-widgets/base",
            "_model_module_version": "1.5.0",
            "_view_count": null,
            "_view_module_version": "1.2.0",
            "_model_module": "@jupyter-widgets/controls"
          }
        },
        "11c63036cfda48faa179ba5f16504db4": {
          "model_module": "@jupyter-widgets/base",
          "model_name": "LayoutModel",
          "state": {
            "_view_name": "LayoutView",
            "grid_template_rows": null,
            "right": null,
            "justify_content": null,
            "_view_module": "@jupyter-widgets/base",
            "overflow": null,
            "_model_module_version": "1.2.0",
            "_view_count": null,
            "flex_flow": null,
            "width": null,
            "min_width": null,
            "border": null,
            "align_items": null,
            "bottom": null,
            "_model_module": "@jupyter-widgets/base",
            "top": null,
            "grid_column": null,
            "overflow_y": null,
            "overflow_x": null,
            "grid_auto_flow": null,
            "grid_area": null,
            "grid_template_columns": null,
            "flex": null,
            "_model_name": "LayoutModel",
            "justify_items": null,
            "grid_row": null,
            "max_height": null,
            "align_content": null,
            "visibility": null,
            "align_self": null,
            "height": null,
            "min_height": null,
            "padding": null,
            "grid_auto_rows": null,
            "grid_gap": null,
            "max_width": null,
            "order": null,
            "_view_module_version": "1.2.0",
            "grid_template_areas": null,
            "object_position": null,
            "object_fit": null,
            "grid_auto_columns": null,
            "margin": null,
            "display": null,
            "left": null
          }
        },
        "93d1332219c949b5bc6b098c1a7bc813": {
          "model_module": "@jupyter-widgets/controls",
          "model_name": "HBoxModel",
          "state": {
            "_view_name": "HBoxView",
            "_dom_classes": [],
            "_model_name": "HBoxModel",
            "_view_module": "@jupyter-widgets/controls",
            "_model_module_version": "1.5.0",
            "_view_count": null,
            "_view_module_version": "1.5.0",
            "box_style": "",
            "layout": "IPY_MODEL_a2593c9140ac482ab2d36eb53cc39807",
            "_model_module": "@jupyter-widgets/controls",
            "children": [
              "IPY_MODEL_63722380062a466c911d293bae75266c",
              "IPY_MODEL_289a89de771b4df987cb82094db13391"
            ]
          }
        },
        "a2593c9140ac482ab2d36eb53cc39807": {
          "model_module": "@jupyter-widgets/base",
          "model_name": "LayoutModel",
          "state": {
            "_view_name": "LayoutView",
            "grid_template_rows": null,
            "right": null,
            "justify_content": null,
            "_view_module": "@jupyter-widgets/base",
            "overflow": null,
            "_model_module_version": "1.2.0",
            "_view_count": null,
            "flex_flow": null,
            "width": null,
            "min_width": null,
            "border": null,
            "align_items": null,
            "bottom": null,
            "_model_module": "@jupyter-widgets/base",
            "top": null,
            "grid_column": null,
            "overflow_y": null,
            "overflow_x": null,
            "grid_auto_flow": null,
            "grid_area": null,
            "grid_template_columns": null,
            "flex": null,
            "_model_name": "LayoutModel",
            "justify_items": null,
            "grid_row": null,
            "max_height": null,
            "align_content": null,
            "visibility": null,
            "align_self": null,
            "height": null,
            "min_height": null,
            "padding": null,
            "grid_auto_rows": null,
            "grid_gap": null,
            "max_width": null,
            "order": null,
            "_view_module_version": "1.2.0",
            "grid_template_areas": null,
            "object_position": null,
            "object_fit": null,
            "grid_auto_columns": null,
            "margin": null,
            "display": null,
            "left": null
          }
        },
        "63722380062a466c911d293bae75266c": {
          "model_module": "@jupyter-widgets/controls",
          "model_name": "FloatProgressModel",
          "state": {
            "_view_name": "ProgressView",
            "style": "IPY_MODEL_ffafa1f089bb47deacc1e510a37a9287",
            "_dom_classes": [],
            "description": "100%",
            "_model_name": "FloatProgressModel",
            "bar_style": "success",
            "max": 178090079,
            "_view_module": "@jupyter-widgets/controls",
            "_model_module_version": "1.5.0",
            "value": 178090079,
            "_view_count": null,
            "_view_module_version": "1.5.0",
            "orientation": "horizontal",
            "min": 0,
            "description_tooltip": null,
            "_model_module": "@jupyter-widgets/controls",
            "layout": "IPY_MODEL_469cc0086a25404f8e2cc1d0b0eeb9db"
          }
        },
        "289a89de771b4df987cb82094db13391": {
          "model_module": "@jupyter-widgets/controls",
          "model_name": "HTMLModel",
          "state": {
            "_view_name": "HTMLView",
            "style": "IPY_MODEL_90fee918c2ea4527a018e98d23040c8f",
            "_dom_classes": [],
            "description": "",
            "_model_name": "HTMLModel",
            "placeholder": "​",
            "_view_module": "@jupyter-widgets/controls",
            "_model_module_version": "1.5.0",
            "value": " 170M/170M [01:36&lt;00:00, 1.85MB/s]",
            "_view_count": null,
            "_view_module_version": "1.5.0",
            "description_tooltip": null,
            "_model_module": "@jupyter-widgets/controls",
            "layout": "IPY_MODEL_5b236ebe03e44119afb4c111406e9262"
          }
        },
        "ffafa1f089bb47deacc1e510a37a9287": {
          "model_module": "@jupyter-widgets/controls",
          "model_name": "ProgressStyleModel",
          "state": {
            "_view_name": "StyleView",
            "_model_name": "ProgressStyleModel",
            "description_width": "initial",
            "_view_module": "@jupyter-widgets/base",
            "_model_module_version": "1.5.0",
            "_view_count": null,
            "_view_module_version": "1.2.0",
            "bar_color": null,
            "_model_module": "@jupyter-widgets/controls"
          }
        },
        "469cc0086a25404f8e2cc1d0b0eeb9db": {
          "model_module": "@jupyter-widgets/base",
          "model_name": "LayoutModel",
          "state": {
            "_view_name": "LayoutView",
            "grid_template_rows": null,
            "right": null,
            "justify_content": null,
            "_view_module": "@jupyter-widgets/base",
            "overflow": null,
            "_model_module_version": "1.2.0",
            "_view_count": null,
            "flex_flow": null,
            "width": null,
            "min_width": null,
            "border": null,
            "align_items": null,
            "bottom": null,
            "_model_module": "@jupyter-widgets/base",
            "top": null,
            "grid_column": null,
            "overflow_y": null,
            "overflow_x": null,
            "grid_auto_flow": null,
            "grid_area": null,
            "grid_template_columns": null,
            "flex": null,
            "_model_name": "LayoutModel",
            "justify_items": null,
            "grid_row": null,
            "max_height": null,
            "align_content": null,
            "visibility": null,
            "align_self": null,
            "height": null,
            "min_height": null,
            "padding": null,
            "grid_auto_rows": null,
            "grid_gap": null,
            "max_width": null,
            "order": null,
            "_view_module_version": "1.2.0",
            "grid_template_areas": null,
            "object_position": null,
            "object_fit": null,
            "grid_auto_columns": null,
            "margin": null,
            "display": null,
            "left": null
          }
        },
        "90fee918c2ea4527a018e98d23040c8f": {
          "model_module": "@jupyter-widgets/controls",
          "model_name": "DescriptionStyleModel",
          "state": {
            "_view_name": "StyleView",
            "_model_name": "DescriptionStyleModel",
            "description_width": "",
            "_view_module": "@jupyter-widgets/base",
            "_model_module_version": "1.5.0",
            "_view_count": null,
            "_view_module_version": "1.2.0",
            "_model_module": "@jupyter-widgets/controls"
          }
        },
        "5b236ebe03e44119afb4c111406e9262": {
          "model_module": "@jupyter-widgets/base",
          "model_name": "LayoutModel",
          "state": {
            "_view_name": "LayoutView",
            "grid_template_rows": null,
            "right": null,
            "justify_content": null,
            "_view_module": "@jupyter-widgets/base",
            "overflow": null,
            "_model_module_version": "1.2.0",
            "_view_count": null,
            "flex_flow": null,
            "width": null,
            "min_width": null,
            "border": null,
            "align_items": null,
            "bottom": null,
            "_model_module": "@jupyter-widgets/base",
            "top": null,
            "grid_column": null,
            "overflow_y": null,
            "overflow_x": null,
            "grid_auto_flow": null,
            "grid_area": null,
            "grid_template_columns": null,
            "flex": null,
            "_model_name": "LayoutModel",
            "justify_items": null,
            "grid_row": null,
            "max_height": null,
            "align_content": null,
            "visibility": null,
            "align_self": null,
            "height": null,
            "min_height": null,
            "padding": null,
            "grid_auto_rows": null,
            "grid_gap": null,
            "max_width": null,
            "order": null,
            "_view_module_version": "1.2.0",
            "grid_template_areas": null,
            "object_position": null,
            "object_fit": null,
            "grid_auto_columns": null,
            "margin": null,
            "display": null,
            "left": null
          }
        }
      }
    }
  },
  "cells": [
    {
      "cell_type": "markdown",
      "metadata": {
        "id": "view-in-github",
        "colab_type": "text"
      },
      "source": [
        "<a href=\"https://colab.research.google.com/github/SkovenForrest/Cellari_project/blob/Mask_RCNN/RCNN_working.ipynb\" target=\"_parent\"><img src=\"https://colab.research.google.com/assets/colab-badge.svg\" alt=\"Open In Colab\"/></a>"
      ]
    },
    {
      "cell_type": "markdown",
      "metadata": {
        "id": "ABxo1s-_cx4s"
      },
      "source": [
        "#Load data"
      ]
    },
    {
      "cell_type": "code",
      "metadata": {
        "id": "_0JxA5o7cxiG"
      },
      "source": [
        "import torch\n",
        "import torchvision.transforms as transforms\n",
        "import numpy as np\n",
        "from torch.utils.data import DataLoader, Dataset\n",
        "import glob\n",
        "import natsort\n",
        "from PIL import Image\n",
        "import matplotlib.pyplot as plt\n",
        "import cv2\n"
      ],
      "execution_count": 1,
      "outputs": []
    },
    {
      "cell_type": "code",
      "metadata": {
        "colab": {
          "base_uri": "https://localhost:8080/"
        },
        "id": "JKzGro_PeL12",
        "outputId": "4733a85e-7f36-4795-ea2b-ca1a7dd8d492"
      },
      "source": [
        "from google.colab import drive\n",
        "drive.mount('/content/drive')\n"
      ],
      "execution_count": 2,
      "outputs": [
        {
          "output_type": "stream",
          "text": [
            "Mounted at /content/drive\n"
          ],
          "name": "stdout"
        }
      ]
    },
    {
      "cell_type": "code",
      "metadata": {
        "id": "7O2I9LBjeNkm"
      },
      "source": [
        "#!ls drive/'My Drive'\n",
        "!ls drive/'My Drive/Gland_dataset' &> /dev/null\n",
        "\n",
        "images_path = 'drive/My Drive/Cellari_project/Gland_dataset/*'"
      ],
      "execution_count": 3,
      "outputs": []
    },
    {
      "cell_type": "code",
      "metadata": {
        "id": "C8tHAvQcel06"
      },
      "source": [
        "images = []\n",
        "masks = []\n",
        "\n",
        "# image preperation\n",
        "train_images = glob.glob(images_path)\n",
        "sorted_train_images = natsort.natsorted(train_images, reverse=False)\n"
      ],
      "execution_count": 4,
      "outputs": []
    },
    {
      "cell_type": "code",
      "metadata": {
        "colab": {
          "base_uri": "https://localhost:8080/"
        },
        "id": "Y2nGtl6mes-W",
        "outputId": "223b3050-81e3-43d0-c073-a6db4f7d3d77"
      },
      "source": [
        "for img in train_images:\n",
        "    name_img = img.split(\"/\")[-1].split(\".\")[0]\n",
        "    imagg = name_img.split(\"_\")[-1]\n",
        "    if imagg == \"anno\":\n",
        "        masks.append(img)\n",
        "    else:\n",
        "        images.append(img)\n",
        "\n",
        "print(len(images))\n",
        "print(len(masks))\n",
        "#print(imagg)\n"
      ],
      "execution_count": 5,
      "outputs": [
        {
          "output_type": "stream",
          "text": [
            "145\n",
            "145\n"
          ],
          "name": "stdout"
        }
      ]
    },
    {
      "cell_type": "code",
      "metadata": {
        "id": "iaRLPBgaewcY"
      },
      "source": [
        "train_orig_images = []\n",
        "train_masks = []\n",
        "\n",
        "test_orig_images = []\n",
        "test_masks = []"
      ],
      "execution_count": 6,
      "outputs": []
    },
    {
      "cell_type": "code",
      "metadata": {
        "id": "_69x_AE4eyoQ"
      },
      "source": [
        "for img in images:\n",
        "    name_img = img.split(\"/\")[-1].split(\".\")[0]\n",
        "    imagg = name_img.split(\"_\")[0]\n",
        "    if imagg == \"testA\" or imagg == \"testB\":\n",
        "        test_orig_images.append(img)\n",
        "    else:\n",
        "        train_orig_images.append(img)\n",
        "\n",
        "for mask in masks:\n",
        "    mask_img = mask.split(\"/\")[-1].split(\".\")[0]\n",
        "    imagg = mask_img.split(\"_\")[0]\n",
        "    if imagg == \"testA\" or imagg == \"testB\":\n",
        "        test_masks.append(mask)\n",
        "    else:\n",
        "        train_masks.append(mask)\n"
      ],
      "execution_count": 7,
      "outputs": []
    },
    {
      "cell_type": "code",
      "metadata": {
        "colab": {
          "base_uri": "https://localhost:8080/"
        },
        "id": "fXxWr7RHezt0",
        "outputId": "015f265b-bbe8-4dd8-8dcd-57d1d87dfdd5"
      },
      "source": [
        "print(len(train_orig_images), len(train_masks))\n",
        "print(len(test_orig_images), len(test_masks))"
      ],
      "execution_count": 8,
      "outputs": [
        {
          "output_type": "stream",
          "text": [
            "85 85\n",
            "60 60\n"
          ],
          "name": "stdout"
        }
      ]
    },
    {
      "cell_type": "code",
      "metadata": {
        "id": "cFqTUxpPe1Cr"
      },
      "source": [
        "sorted_train_images = natsort.natsorted(train_orig_images, reverse=False)\n",
        "sorted_train_masks = natsort.natsorted(train_masks, reverse=False)\n",
        "\n",
        "sorted_test_images = natsort.natsorted(test_orig_images, reverse=False)\n",
        "sorted_test_masks = natsort.natsorted(test_masks, reverse=False)"
      ],
      "execution_count": 9,
      "outputs": []
    },
    {
      "cell_type": "code",
      "metadata": {
        "id": "hKxMkGUee31e"
      },
      "source": [
        "#mean = (0.485, 0.456, 0.406)\n",
        "#std = (0.229, 0.224, 0.225)\n",
        "#mean = np.array([0.5, 0.5, 0.5])\n",
        "#std = np.array([0.5, 0.5, 0.5])\n",
        "mean = np.array([0.7874, 0.5112, 0.7851])\n",
        "std = np.array([0.1522, 0.2089, 0.111])\n",
        "\n",
        "transformations = transforms.Compose([transforms.Resize((512,512)) , transforms.ToTensor() , transforms.Normalize(mean, std)])\n",
        "\n"
      ],
      "execution_count": 10,
      "outputs": []
    },
    {
      "cell_type": "code",
      "metadata": {
        "colab": {
          "base_uri": "https://localhost:8080/",
          "height": 286
        },
        "id": "OEOJz4mUwH0U",
        "outputId": "4cda51b3-5e0c-486d-fb90-063daad908f9"
      },
      "source": [
        "from PIL import Image\n",
        "import matplotlib.pyplot as plt\n",
        "from skimage.transform import resize\n",
        "img = Image.open(sorted_train_images[61]).convert(\"RGB\")\n",
        "img = img.resize((512,512))\n",
        "plt.imshow(img)"
      ],
      "execution_count": 11,
      "outputs": [
        {
          "output_type": "execute_result",
          "data": {
            "text/plain": [
              "<matplotlib.image.AxesImage at 0x7ff018b3ce10>"
            ]
          },
          "metadata": {
            "tags": []
          },
          "execution_count": 11
        },
        {
          "output_type": "display_data",
          "data": {
            "image/png": "[encoded data removed]",
            "text/plain": [
              "<Figure size 432x288 with 1 Axes>"
            ]
          },
          "metadata": {
            "tags": [],
            "needs_background": "light"
          }
        }
      ]
    },
    {
      "cell_type": "code",
      "metadata": {
        "colab": {
          "base_uri": "https://localhost:8080/",
          "height": 286
        },
        "id": "ygseWW6qXWoM",
        "outputId": "b801cafd-ef70-4294-83cf-8aaafe8dbfe0"
      },
      "source": [
        "#check mask\n",
        "mask = Image.open(sorted_train_masks[61])\n",
        "mask = mask.resize((512,512))\n",
        "mask = np.array(mask)\n",
        "for x in range(0,mask.shape[0]):\n",
        "          for y in range(0, mask.shape[1]):\n",
        "            if mask[x,y] >0:\n",
        "              mask[x,y] = 255\n",
        "plt.imshow(mask)"
      ],
      "execution_count": 12,
      "outputs": [
        {
          "output_type": "execute_result",
          "data": {
            "text/plain": [
              "<matplotlib.image.AxesImage at 0x7ff016e1c2b0>"
            ]
          },
          "metadata": {
            "tags": []
          },
          "execution_count": 12
        },
        {
          "output_type": "display_data",
          "data": {
            "image/png": "[encoded data removed]",
            "text/plain": [
              "<Figure size 432x288 with 1 Axes>"
            ]
          },
          "metadata": {
            "tags": [],
            "needs_background": "light"
          }
        }
      ]
    },
    {
      "cell_type": "code",
      "metadata": {
        "id": "Bw0U6jgtlinW"
      },
      "source": [
        ""
      ],
      "execution_count": 12,
      "outputs": []
    },
    {
      "cell_type": "code",
      "metadata": {
        "colab": {
          "base_uri": "https://localhost:8080/",
          "height": 54
        },
        "id": "yPK1WmL7GZgZ",
        "outputId": "f3e77b39-5333-4c2c-fcd5-9b050e5a7bc5"
      },
      "source": [
        "\"\"\"\n",
        "for x in range(0,mask.shape[0]):\n",
        "    for y in range(0, mask.shape[1]):\n",
        "        if mask[x,y] == 6:\n",
        "          print(\"coordinate\", {x,y})\n",
        "\"\"\""
      ],
      "execution_count": 13,
      "outputs": [
        {
          "output_type": "execute_result",
          "data": {
            "application/vnd.google.colaboratory.intrinsic+json": {
              "type": "string"
            },
            "text/plain": [
              "'\\nfor x in range(0,mask.shape[0]):\\n    for y in range(0, mask.shape[1]):\\n        if mask[x,y] == 6:\\n          print(\"coordinate\", {x,y})\\n'"
            ]
          },
          "metadata": {
            "tags": []
          },
          "execution_count": 13
        }
      ]
    },
    {
      "cell_type": "code",
      "metadata": {
        "id": "G5D2IMjhctiI"
      },
      "source": [
        "import os\n",
        "import numpy as np\n",
        "import torch\n",
        "from PIL import Image\n",
        "\n",
        "\n",
        "class CellarDataset(object):\n",
        "    def __init__(self, images, masks, transforms):\n",
        "        self.transforms = transforms\n",
        "        # load all image files, sorting them to\n",
        "        # ensure that they are aligned\n",
        "        self.imgs = images\n",
        "        self.masks = masks\n",
        "        self.transforms = transforms\n",
        "\n",
        "    def __getitem__(self, idx):\n",
        "        #print(\"current idx =\",idx)\n",
        "        #print(\"len self.imgs =\",len(self.imgs))\n",
        "        img = Image.open(self.imgs[idx]).convert(\"RGB\")\n",
        "        #img = img.resize((512,512))\n",
        "        # note that we haven't converted the mask to RGB,\n",
        "        # because each color corresponds to a different instance\n",
        "        # with 0 being background\n",
        "        mask = Image.open(self.masks[idx])\n",
        "        #mask = mask.resize((512,512))\n",
        "        \n",
        "        mask = np.array(mask)\n",
        "        #convert to black and white image\n",
        "        \"\"\"\n",
        "        for x in range(0,mask.shape[0]):\n",
        "          for y in range(0, mask.shape[1]):\n",
        "            if mask[x,y] >0:\n",
        "              mask[x,y] = 255\n",
        "        \"\"\"\n",
        "        # instances are encoded as different colors\n",
        "        obj_ids = np.unique(mask)\n",
        "        # first id is the background, so remove it\n",
        "        obj_ids = obj_ids[1:]\n",
        "\n",
        "        # split the color-encoded mask into a set\n",
        "        # of binary masks\n",
        "        masks = mask == obj_ids[:, None, None]\n",
        "\n",
        "        # get bounding box coordinates for each mask\n",
        "        num_objs = len(obj_ids)\n",
        "        boxes = []\n",
        "        for i in range(num_objs):\n",
        "            pos = np.where(masks[i])\n",
        "            xmin = np.min(pos[1])\n",
        "            \n",
        "            xmax = np.max(pos[1])\n",
        "            ymin = np.min(pos[0])\n",
        "            ymax = np.max(pos[0])\n",
        "            if xmax-xmin > 2 and ymax-ymin > 2 :\n",
        "              boxes.append([xmin, ymin, xmax, ymax])\n",
        "            else :\n",
        "              obj_ids = np.delete(obj_ids,i)\n",
        "\n",
        "        # convert everything into a torch.Tensor\n",
        "        boxes = torch.as_tensor(boxes, dtype=torch.float32)\n",
        "        # there is only one class\n",
        "        labels = torch.ones((num_objs,), dtype=torch.int64)\n",
        "        masks = torch.as_tensor(masks, dtype=torch.uint8)\n",
        "\n",
        "        image_id = torch.tensor([idx])\n",
        "        area = (boxes[:, 3] - boxes[:, 1]) * (boxes[:, 2] - boxes[:, 0])\n",
        "        # suppose all instances are not crowd\n",
        "        iscrowd = torch.zeros((num_objs,), dtype=torch.int64)\n",
        "\n",
        "        target = {}\n",
        "        target[\"boxes\"] = boxes\n",
        "        target[\"labels\"] = labels\n",
        "        target[\"masks\"] = masks\n",
        "        target[\"image_id\"] = image_id\n",
        "        target[\"area\"] = area\n",
        "        target[\"iscrowd\"] = iscrowd\n",
        "        #target[\"area\"] = 1 \n",
        "        #target[\"iscrowd\"] = False \n",
        "        if self.transforms is not None:\n",
        "            img, target = self.transforms(img, target)\n",
        "\n",
        "        return img, target\n",
        "\n",
        "    def __len__(self):\n",
        "        return len(self.imgs)"
      ],
      "execution_count": 14,
      "outputs": []
    },
    {
      "cell_type": "markdown",
      "metadata": {
        "id": "LVdcZiw-dYAK"
      },
      "source": [
        "#Modifying the model from a pretrained RCNN"
      ]
    },
    {
      "cell_type": "code",
      "metadata": {
        "id": "ajmb-i5kdXls",
        "colab": {
          "base_uri": "https://localhost:8080/",
          "height": 103,
          "referenced_widgets": [
            "c7155ec90c734ea089f08b06d1403764",
            "6f08e9acac0d481b99de0b8a37b3ff60",
            "66b2de5d789a42fb91d5805e87d11027",
            "006b1c8680924648aa723e6b798bd9a3",
            "ab2e9563f6f343c39713bbdc83257b59",
            "2db79f36bee54e799accd7bd33ee4109",
            "b909e22829fc4f5ba5b308a895842109",
            "11c63036cfda48faa179ba5f16504db4"
          ]
        },
        "outputId": "d543f935-47ed-4f5b-a07b-f312e38fb319"
      },
      "source": [
        "import torchvision\n",
        "from torchvision.models.detection import FasterRCNN\n",
        "from torchvision.models.detection.rpn import AnchorGenerator\n",
        "\n",
        "# load a pre-trained model for classification and return\n",
        "# only the features\n",
        "backbone = torchvision.models.mobilenet_v2(pretrained=True).features\n",
        "# FasterRCNN needs to know the number of\n",
        "# output channels in a backbone. For mobilenet_v2, it's 1280\n",
        "# so we need to add it here\n",
        "backbone.out_channels = 1280\n",
        "\n",
        "# let's make the RPN generate 5 x 3 anchors per spatial\n",
        "# location, with 5 different sizes and 3 different aspect\n",
        "# ratios. We have a Tuple[Tuple[int]] because each feature\n",
        "# map could potentially have different sizes and\n",
        "# aspect ratios\n",
        "anchor_generator = AnchorGenerator(sizes=((32, 64, 128, 256, 512),),\n",
        "                                   aspect_ratios=((0.5, 1.0, 2.0),))\n",
        "\n",
        "# let's define what are the feature maps that we will\n",
        "# use to perform the region of interest cropping, as well as\n",
        "# the size of the crop after rescaling.\n",
        "# if your backbone returns a Tensor, featmap_names is expected to\n",
        "# be [0]. More generally, the backbone should return an\n",
        "# OrderedDict[Tensor], and in featmap_names you can choose which\n",
        "# feature maps to use.\n",
        "roi_pooler = torchvision.ops.MultiScaleRoIAlign(featmap_names=[\"0\"],\n",
        "                                                output_size=7,\n",
        "                                                sampling_ratio=2)\n",
        "#roi_pooler = torchvision.ops.MultiScaleRoIAlign(featmap_names=[0],\n",
        "                                                #output_size=7,\n",
        "                                                #sampling_ratio=2)\n",
        "\n",
        "# put the pieces together inside a FasterRCNN model\n",
        "model = FasterRCNN(backbone,\n",
        "                   num_classes=2,\n",
        "                   rpn_anchor_generator=anchor_generator,\n",
        "                   box_roi_pool=roi_pooler)\n",
        "\n"
      ],
      "execution_count": 15,
      "outputs": [
        {
          "output_type": "stream",
          "text": [
            "Downloading: \"https://download.pytorch.org/models/mobilenet_v2-b0353104.pth\" to /root/.cache/torch/hub/checkpoints/mobilenet_v2-b0353104.pth\n"
          ],
          "name": "stderr"
        },
        {
          "output_type": "display_data",
          "data": {
            "application/vnd.jupyter.widget-view+json": {
              "model_id": "c7155ec90c734ea089f08b06d1403764",
              "version_minor": 0,
              "version_major": 2
            },
            "text/plain": [
              "HBox(children=(FloatProgress(value=0.0, max=14212972.0), HTML(value='')))"
            ]
          },
          "metadata": {
            "tags": []
          }
        },
        {
          "output_type": "stream",
          "text": [
            "\n"
          ],
          "name": "stdout"
        }
      ]
    },
    {
      "cell_type": "code",
      "metadata": {
        "id": "NI6jQeKJ509B"
      },
      "source": [
        "import torchvision\n",
        "from torchvision.models.detection.faster_rcnn import FastRCNNPredictor\n",
        "from torchvision.models.detection.mask_rcnn import MaskRCNNPredictor\n",
        "\n",
        "      \n",
        "def get_instance_segmentation_model(num_classes):\n",
        "    # load an instance segmentation model pre-trained on COCO\n",
        "    model = torchvision.models.detection.maskrcnn_resnet50_fpn(pretrained=True)\n",
        "\n",
        "    # get the number of input features for the classifier\n",
        "    in_features = model.roi_heads.box_predictor.cls_score.in_features\n",
        "    # replace the pre-trained head with a new one\n",
        "    model.roi_heads.box_predictor = FastRCNNPredictor(in_features, num_classes)\n",
        "\n",
        "    # now get the number of input features for the mask classifier\n",
        "    in_features_mask = model.roi_heads.mask_predictor.conv5_mask.in_channels\n",
        "    hidden_layer = 256\n",
        "    # and replace the mask predictor with a new one\n",
        "    model.roi_heads.mask_predictor = MaskRCNNPredictor(in_features_mask,\n",
        "                                                       hidden_layer,\n",
        "                                                       num_classes)\n",
        "\n",
        "    return model"
      ],
      "execution_count": 16,
      "outputs": []
    },
    {
      "cell_type": "code",
      "metadata": {
        "colab": {
          "base_uri": "https://localhost:8080/"
        },
        "id": "1JsHmhQ0i586",
        "outputId": "580c5078-82a5-4e0a-9706-27960474aac3"
      },
      "source": [
        "%%shell\n",
        "\n",
        "# Download TorchVision repo to use some files from\n",
        "# references/detection\n",
        "git clone https://github.com/pytorch/vision.git\n",
        "cd vision\n",
        "git checkout v0.3.0\n",
        "\n",
        "cp references/detection/utils.py ../\n",
        "cp references/detection/transforms.py ../\n",
        "cp references/detection/coco_eval.py ../\n",
        "cp references/detection/engine.py ../\n",
        "cp references/detection/coco_utils.py ../"
      ],
      "execution_count": 17,
      "outputs": [
        {
          "output_type": "stream",
          "text": [
            "Cloning into 'vision'...\n",
            "remote: Enumerating objects: 10, done.\u001b[K\n",
            "remote: Counting objects: 100% (10/10), done.\u001b[K\n",
            "remote: Compressing objects: 100% (10/10), done.\u001b[K\n",
            "remote: Total 11848 (delta 1), reused 1 (delta 0), pack-reused 11838\u001b[K\n",
            "Receiving objects: 100% (11848/11848), 13.33 MiB | 21.07 MiB/s, done.\n",
            "Resolving deltas: 100% (8269/8269), done.\n",
            "Note: checking out 'v0.3.0'.\n",
            "\n",
            "You are in 'detached HEAD' state. You can look around, make experimental\n",
            "changes and commit them, and you can discard any commits you make in this\n",
            "state without impacting any branches by performing another checkout.\n",
            "\n",
            "If you want to create a new branch to retain commits you create, you may\n",
            "do so (now or later) by using -b with the checkout command again. Example:\n",
            "\n",
            "  git checkout -b <new-branch-name>\n",
            "\n",
            "HEAD is now at be37608 version check against PyTorch's CUDA version\n"
          ],
          "name": "stdout"
        },
        {
          "output_type": "execute_result",
          "data": {
            "text/plain": [
              ""
            ]
          },
          "metadata": {
            "tags": []
          },
          "execution_count": 17
        }
      ]
    },
    {
      "cell_type": "code",
      "metadata": {
        "id": "i6m9HaYGhylQ"
      },
      "source": [
        "from engine import train_one_epoch, evaluate\n",
        "import utils\n",
        "import transforms as T\n",
        "\n",
        "\n",
        "def get_transform(train):\n",
        "    transforms = []\n",
        "    # converts the image, a PIL image, into a PyTorch Tensor\n",
        "    transforms.append(T.ToTensor())\n",
        "    if train:\n",
        "        # during training, randomly flip the training images\n",
        "        # and ground-truth for data augmentation\n",
        "        transforms.append(T.RandomHorizontalFlip(0.5))\n",
        "    return T.Compose(transforms)"
      ],
      "execution_count": 18,
      "outputs": []
    },
    {
      "cell_type": "code",
      "metadata": {
        "colab": {
          "base_uri": "https://localhost:8080/"
        },
        "id": "uLBiKVunjKV9",
        "outputId": "69ee552d-8b59-4e1d-da3a-794460ff2488"
      },
      "source": [
        "# use our dataset and defined transformations\n",
        "dataset = CellarDataset(sorted_train_images,sorted_train_masks,get_transform(train=True))\n",
        "dataset_test = CellarDataset(sorted_test_images,sorted_test_masks,get_transform(train=False))\n",
        "\n",
        "# split the dataset in train and test set\n",
        "torch.manual_seed(1)\n",
        "indices_train = torch.randperm(len(dataset)).tolist()\n",
        "indices_test = torch.randperm(len(dataset_test)).tolist()\n",
        "#dataset = torch.utils.data.Subset(dataset, indices[:-50])\n",
        "#dataset_test = torch.utils.data.Subset(dataset_test, indices[-50:])\n",
        "#dataset = torch.utils.data.Subset(dataset, indices_train[:])\n",
        "#dataset_test = torch.utils.data.Subset(dataset_test, indices_test[:])\n",
        "dataset = torch.utils.data.Subset(dataset, indices_train[:])\n",
        "dataset_test = torch.utils.data.Subset(dataset_test, indices_test[:])\n",
        "\n",
        "# define training and validation data loaders\n",
        "data_loader = torch.utils.data.DataLoader(\n",
        "    dataset, batch_size=5, shuffle=True, num_workers=4,\n",
        "    collate_fn=utils.collate_fn)\n",
        "\n",
        "data_loader_test = torch.utils.data.DataLoader(\n",
        "    dataset_test, batch_size=1, shuffle=False, num_workers=4,\n",
        "    collate_fn=utils.collate_fn)\n",
        "\n",
        "\n",
        "print(indices_train)\n",
        "print(len(dataset))"
      ],
      "execution_count": 19,
      "outputs": [
        {
          "output_type": "stream",
          "text": [
            "[70, 60, 72, 5, 83, 78, 33, 48, 8, 9, 6, 44, 3, 84, 26, 55, 37, 74, 14, 71, 25, 58, 75, 39, 68, 61, 18, 57, 66, 4, 21, 69, 32, 11, 29, 30, 40, 67, 22, 43, 15, 82, 51, 54, 63, 50, 0, 46, 81, 53, 79, 2, 56, 77, 59, 24, 76, 23, 20, 35, 7, 36, 65, 62, 73, 12, 28, 42, 10, 49, 17, 27, 13, 38, 80, 34, 19, 47, 64, 52, 1, 31, 16, 41, 45]\n",
            "85\n"
          ],
          "name": "stdout"
        }
      ]
    },
    {
      "cell_type": "code",
      "metadata": {
        "colab": {
          "base_uri": "https://localhost:8080/",
          "height": 139
        },
        "id": "81Wk-b_NmLla",
        "outputId": "e8d8c50b-e04e-4830-b700-03c64c247fef"
      },
      "source": [
        "\"\"\"\n",
        "device = torch.device('cuda') if torch.cuda.is_available() else torch.device('cpu')\n",
        "\n",
        "# our dataset has two classes only - background and person\n",
        "num_classes = 2\n",
        "\n",
        "# put the pieces together inside a FasterRCNN model\n",
        "model = FasterRCNN(backbone,\n",
        "                   num_classes=2,\n",
        "                   rpn_anchor_generator=anchor_generator,\n",
        "                   box_roi_pool=roi_pooler)\n",
        "# move model to the right device\n",
        "model.to(device)\n",
        "\n",
        "# construct an optimizer\n",
        "params = [p for p in model.parameters() if p.requires_grad]\n",
        "optimizer = torch.optim.SGD(params, lr=0.005,\n",
        "                            momentum=0.9, weight_decay=0.0005)\n",
        "\n",
        "# and a learning rate scheduler which decreases the learning rate by\n",
        "# 10x every 3 epochs\n",
        "lr_scheduler = torch.optim.lr_scheduler.StepLR(optimizer,\n",
        "                                               step_size=3,\n",
        "                                               gamma=0.1)\n",
        "\"\"\""
      ],
      "execution_count": 20,
      "outputs": [
        {
          "output_type": "execute_result",
          "data": {
            "application/vnd.google.colaboratory.intrinsic+json": {
              "type": "string"
            },
            "text/plain": [
              "\"\\ndevice = torch.device('cuda') if torch.cuda.is_available() else torch.device('cpu')\\n\\n# our dataset has two classes only - background and person\\nnum_classes = 2\\n\\n# put the pieces together inside a FasterRCNN model\\nmodel = FasterRCNN(backbone,\\n                   num_classes=2,\\n                   rpn_anchor_generator=anchor_generator,\\n                   box_roi_pool=roi_pooler)\\n# move model to the right device\\nmodel.to(device)\\n\\n# construct an optimizer\\nparams = [p for p in model.parameters() if p.requires_grad]\\noptimizer = torch.optim.SGD(params, lr=0.005,\\n                            momentum=0.9, weight_decay=0.0005)\\n\\n# and a learning rate scheduler which decreases the learning rate by\\n# 10x every 3 epochs\\nlr_scheduler = torch.optim.lr_scheduler.StepLR(optimizer,\\n                                               step_size=3,\\n                                               gamma=0.1)\\n\""
            ]
          },
          "metadata": {
            "tags": []
          },
          "execution_count": 20
        }
      ]
    },
    {
      "cell_type": "code",
      "metadata": {
        "id": "033bq4rL6bnN",
        "colab": {
          "base_uri": "https://localhost:8080/",
          "height": 103,
          "referenced_widgets": [
            "93d1332219c949b5bc6b098c1a7bc813",
            "a2593c9140ac482ab2d36eb53cc39807",
            "63722380062a466c911d293bae75266c",
            "289a89de771b4df987cb82094db13391",
            "ffafa1f089bb47deacc1e510a37a9287",
            "469cc0086a25404f8e2cc1d0b0eeb9db",
            "90fee918c2ea4527a018e98d23040c8f",
            "5b236ebe03e44119afb4c111406e9262"
          ]
        },
        "outputId": "95ae2aac-70e2-47f1-c666-e2b721a01d52"
      },
      "source": [
        "device = torch.device('cuda') if torch.cuda.is_available() else torch.device('cpu')\n",
        "\n",
        "# our dataset has two classes only - background and person\n",
        "num_classes = 2\n",
        "\n",
        "# get the model using our helper function\n",
        "model = get_instance_segmentation_model(num_classes)\n",
        "# move model to the right device\n",
        "model.to(device)\n",
        "\n",
        "# construct an optimizer\n",
        "params = [p for p in model.parameters() if p.requires_grad]\n",
        "optimizer = torch.optim.SGD(params, lr=0.005,momentum=0.9, weight_decay=0.0005)\n",
        "                            \n",
        "#optimizer = torch.optim.Adam(params, lr=0.005, weight_decay=0.0005)\n",
        "\n",
        "# and a learning rate scheduler which decreases the learning rate by\n",
        "# 10x every 3 epochs\n",
        "lr_scheduler = torch.optim.lr_scheduler.StepLR(optimizer,\n",
        "                                               step_size=3,\n",
        "                                               gamma=0.1)"
      ],
      "execution_count": 21,
      "outputs": [
        {
          "output_type": "stream",
          "text": [
            "Downloading: \"https://download.pytorch.org/models/maskrcnn_resnet50_fpn_coco-bf2d0c1e.pth\" to /root/.cache/torch/hub/checkpoints/maskrcnn_resnet50_fpn_coco-bf2d0c1e.pth\n"
          ],
          "name": "stderr"
        },
        {
          "output_type": "display_data",
          "data": {
            "application/vnd.jupyter.widget-view+json": {
              "model_id": "93d1332219c949b5bc6b098c1a7bc813",
              "version_minor": 0,
              "version_major": 2
            },
            "text/plain": [
              "HBox(children=(FloatProgress(value=0.0, max=178090079.0), HTML(value='')))"
            ]
          },
          "metadata": {
            "tags": []
          }
        },
        {
          "output_type": "stream",
          "text": [
            "\n"
          ],
          "name": "stdout"
        }
      ]
    },
    {
      "cell_type": "code",
      "metadata": {
        "colab": {
          "base_uri": "https://localhost:8080/"
        },
        "id": "OM_CyczhmNhi",
        "outputId": "5207edc2-6c5f-4cd8-e931-8842616720c6"
      },
      "source": [
        "# let's train it for 10 epochs\n",
        "num_epochs = 1\n",
        "\n",
        "for epoch in range(num_epochs):\n",
        "    # train for one epoch, printing every 10 iterations\n",
        "    train_one_epoch(model, optimizer, data_loader, device, epoch, print_freq=20)\n",
        "    # update the learning rate\n",
        "    lr_scheduler.step()\n",
        "    # evaluate on the test dataset\n",
        "    evaluate(model, data_loader_test, device=device)"
      ],
      "execution_count": 22,
      "outputs": [
        {
          "output_type": "stream",
          "text": [
            "/usr/local/lib/python3.6/dist-packages/torch/nn/functional.py:3103: UserWarning: The default behavior for interpolate/upsample with float scale_factor changed in 1.6.0 to align with other frameworks/libraries, and now uses scale_factor directly, instead of relying on the computed output size. If you wish to restore the old behavior, please set recompute_scale_factor=True. See the documentation of nn.Upsample for details. \n",
            "  warnings.warn(\"The default behavior for interpolate/upsample with float scale_factor changed \"\n"
          ],
          "name": "stderr"
        },
        {
          "output_type": "stream",
          "text": [
            "Epoch: [0]  [ 0/17]  eta: 0:02:03  lr: 0.000317  loss: 7.4057 (7.4057)  loss_classifier: 0.5218 (0.5218)  loss_box_reg: 0.5583 (0.5583)  loss_mask: 5.6256 (5.6256)  loss_objectness: 0.6221 (0.6221)  loss_rpn_box_reg: 0.0780 (0.0780)  time: 7.2719  data: 5.3860  max mem: 5531\n",
            "Epoch: [0]  [16/17]  eta: 0:00:01  lr: 0.005000  loss: 2.0281 (2.7194)  loss_classifier: 0.4145 (0.4178)  loss_box_reg: 0.5583 (0.5516)  loss_mask: 0.7538 (1.4568)  loss_objectness: 0.1338 (0.2167)  loss_rpn_box_reg: 0.0750 (0.0765)  time: 1.9979  data: 0.3369  max mem: 6239\n",
            "Epoch: [0] Total time: 0:00:34 (2.0036 s / it)\n",
            "creating index...\n",
            "index created!\n",
            "Test:  [ 0/60]  eta: 0:00:59  model_time: 0.3934 (0.3934)  evaluator_time: 0.2034 (0.2034)  time: 0.9870  data: 0.3863  max mem: 6239\n",
            "Test:  [59/60]  eta: 0:00:00  model_time: 0.2615 (0.2616)  evaluator_time: 0.1717 (0.1763)  time: 0.4532  data: 0.0046  max mem: 6239\n",
            "Test: Total time: 0:00:27 (0.4551 s / it)\n",
            "Averaged stats: model_time: 0.2615 (0.2616)  evaluator_time: 0.1717 (0.1763)\n",
            "Accumulating evaluation results...\n",
            "DONE (t=0.05s).\n",
            "Accumulating evaluation results...\n",
            "DONE (t=0.06s).\n",
            "IoU metric: bbox\n",
            " Average Precision  (AP) @[ IoU=0.50:0.95 | area=   all | maxDets=100 ] = 0.064\n",
            " Average Precision  (AP) @[ IoU=0.50      | area=   all | maxDets=100 ] = 0.196\n",
            " Average Precision  (AP) @[ IoU=0.75      | area=   all | maxDets=100 ] = 0.024\n",
            " Average Precision  (AP) @[ IoU=0.50:0.95 | area= small | maxDets=100 ] = 0.000\n",
            " Average Precision  (AP) @[ IoU=0.50:0.95 | area=medium | maxDets=100 ] = 0.048\n",
            " Average Precision  (AP) @[ IoU=0.50:0.95 | area= large | maxDets=100 ] = 0.075\n",
            " Average Recall     (AR) @[ IoU=0.50:0.95 | area=   all | maxDets=  1 ] = 0.013\n",
            " Average Recall     (AR) @[ IoU=0.50:0.95 | area=   all | maxDets= 10 ] = 0.098\n",
            " Average Recall     (AR) @[ IoU=0.50:0.95 | area=   all | maxDets=100 ] = 0.294\n",
            " Average Recall     (AR) @[ IoU=0.50:0.95 | area= small | maxDets=100 ] = 0.000\n",
            " Average Recall     (AR) @[ IoU=0.50:0.95 | area=medium | maxDets=100 ] = 0.167\n",
            " Average Recall     (AR) @[ IoU=0.50:0.95 | area= large | maxDets=100 ] = 0.360\n",
            "IoU metric: segm\n",
            " Average Precision  (AP) @[ IoU=0.50:0.95 | area=   all | maxDets=100 ] = 0.050\n",
            " Average Precision  (AP) @[ IoU=0.50      | area=   all | maxDets=100 ] = 0.158\n",
            " Average Precision  (AP) @[ IoU=0.75      | area=   all | maxDets=100 ] = 0.016\n",
            " Average Precision  (AP) @[ IoU=0.50:0.95 | area= small | maxDets=100 ] = 0.064\n",
            " Average Precision  (AP) @[ IoU=0.50:0.95 | area=medium | maxDets=100 ] = 0.025\n",
            " Average Precision  (AP) @[ IoU=0.50:0.95 | area= large | maxDets=100 ] = 0.061\n",
            " Average Recall     (AR) @[ IoU=0.50:0.95 | area=   all | maxDets=  1 ] = 0.012\n",
            " Average Recall     (AR) @[ IoU=0.50:0.95 | area=   all | maxDets= 10 ] = 0.080\n",
            " Average Recall     (AR) @[ IoU=0.50:0.95 | area=   all | maxDets=100 ] = 0.225\n",
            " Average Recall     (AR) @[ IoU=0.50:0.95 | area= small | maxDets=100 ] = 0.062\n",
            " Average Recall     (AR) @[ IoU=0.50:0.95 | area=medium | maxDets=100 ] = 0.145\n",
            " Average Recall     (AR) @[ IoU=0.50:0.95 | area= large | maxDets=100 ] = 0.267\n"
          ],
          "name": "stdout"
        }
      ]
    },
    {
      "cell_type": "code",
      "metadata": {
        "id": "pm3EYzjg-BIb"
      },
      "source": [
        "# pick one image from the test set\n",
        "img, features = dataset_test[0]\n",
        "# put the model in evaluation mode\n",
        "model.eval()\n",
        "with torch.no_grad():\n",
        "    prediction = model([img.to(device)])"
      ],
      "execution_count": 23,
      "outputs": []
    },
    {
      "cell_type": "code",
      "metadata": {
        "id": "yn69PilhGFey",
        "colab": {
          "base_uri": "https://localhost:8080/",
          "height": 269
        },
        "outputId": "387e8800-a309-40c3-9ddc-18db7cf17995"
      },
      "source": [
        "masks = features['masks']\n",
        "mask_np = masks.mul(255).permute(1, 2, 0).byte().cpu().numpy()\n",
        "true_mask = None\n",
        "for i in range(0,mask_np.shape[2]):\n",
        "  mask = mask_np[:,:,i]\n",
        "  if i != 0:\n",
        "    true_mask = np.bitwise_or(true_mask,mask)\n",
        "  else:\n",
        "    true_mask = mask\n",
        "\n",
        "plt.imshow(true_mask,cmap='gray')\n",
        "plt.show()"
      ],
      "execution_count": 24,
      "outputs": [
        {
          "output_type": "display_data",
          "data": {
            "image/png": "[encoded data removed]",
            "text/plain": [
              "<Figure size 432x288 with 1 Axes>"
            ]
          },
          "metadata": {
            "tags": [],
            "needs_background": "light"
          }
        }
      ]
    },
    {
      "cell_type": "code",
      "metadata": {
        "colab": {
          "base_uri": "https://localhost:8080/",
          "height": 286
        },
        "id": "suiZl9f1v6fa",
        "outputId": "aff15020-b346-46d1-e688-ae6de44ec006"
      },
      "source": [
        "img_np = prediction[0]['masks'][:, 0].mul(255).permute(1, 2, 0).byte().cpu().numpy()\n",
        "print(img_np.shape)\n",
        "predicted_cells = None\n",
        "for i in range(0,img_np.shape[2]):\n",
        "  img = img_np[:,:,i]\n",
        "  if i != 0:\n",
        "    predicted_cells = np.bitwise_or(predicted_cells,img)\n",
        "  else:\n",
        "    predicted_cells = mask\n",
        "\n",
        "plt.imshow(predicted_cells,cmap='gray')\n",
        "plt.show()"
      ],
      "execution_count": 25,
      "outputs": [
        {
          "output_type": "stream",
          "text": [
            "(522, 775, 100)\n"
          ],
          "name": "stdout"
        },
        {
          "output_type": "display_data",
          "data": {
            "image/png": "[encoded data removed]",
            "text/plain": [
              "<Figure size 432x288 with 1 Axes>"
            ]
          },
          "metadata": {
            "tags": [],
            "needs_background": "light"
          }
        }
      ]
    },
    {
      "cell_type": "code",
      "metadata": {
        "id": "8gk5g_x4cYFw",
        "colab": {
          "base_uri": "https://localhost:8080/"
        },
        "outputId": "ba160da4-e7e6-4311-a6a6-86142b45e00a"
      },
      "source": [
        "print(dataset_test)"
      ],
      "execution_count": 26,
      "outputs": [
        {
          "output_type": "stream",
          "text": [
            "<torch.utils.data.dataset.Subset object at 0x7ff016e2ab00>\n"
          ],
          "name": "stdout"
        }
      ]
    },
    {
      "cell_type": "code",
      "metadata": {
        "colab": {
          "base_uri": "https://localhost:8080/"
        },
        "id": "1yORPldZvu9b",
        "outputId": "0f485dbd-b5e9-4bab-fcfa-37c41cf7e8aa"
      },
      "source": [
        "!git clone https://github.com/scikit-image/scikit-image.git\n",
        "!cd scikit-image\n",
        "!pip install -e"
      ],
      "execution_count": 45,
      "outputs": [
        {
          "output_type": "stream",
          "text": [
            "fatal: destination path 'scikit-image' already exists and is not an empty directory.\n",
            "\n",
            "Usage:   \n",
            "  pip3 install [options] <requirement specifier> [package-index-options] ...\n",
            "  pip3 install [options] -r <requirements file> [package-index-options] ...\n",
            "  pip3 install [options] [-e] <vcs project url> ...\n",
            "  pip3 install [options] [-e] <local project path> ...\n",
            "  pip3 install [options] <archive url/path> ...\n",
            "\n",
            "-e option requires 1 argument\n"
          ],
          "name": "stdout"
        }
      ]
    },
    {
      "cell_type": "code",
      "metadata": {
        "id": "tzrI4Qbgtw02"
      },
      "source": [
        "from skimage.measure import label\n",
        "from skimage import metrics\n",
        "os.chdir('/content/scikit-image/skimage/metrics')\n",
        "from set_metrics import hausdorff_distance"
      ],
      "execution_count": 47,
      "outputs": []
    },
    {
      "cell_type": "code",
      "metadata": {
        "id": "B0u5ndR9s-5J"
      },
      "source": [
        "import numpy as np\n",
        "from skimage.measure import label\n",
        "#from skimage.metrics import hausdorff_distance\n",
        "\n",
        "class BinaryImageMetrics():\n",
        "    def __init__(self, y_true, y_pred):\n",
        "        #TODO: Add documentation\n",
        "        #TODO: implement Adjusted Rand Index and https://web.stanford.edu/class/cs273/scribing/2004/class8/scribe8.pdf\n",
        "        \n",
        "        # Numpy have the bug : ValueError: cannot set WRITEABLE flag to True of this array\n",
        "        # That is why we copy the array\n",
        "\n",
        "        # We force the predictions to be binary\n",
        "\n",
        "        y_true = np.copy(y_true)\n",
        "        y_pred = np.copy(y_pred)\n",
        "        y_true[y_true>0]=1\n",
        "        y_pred[y_pred>0] = 1\n",
        "        self.y_true= y_true\n",
        "        self.y_pred = y_pred\n",
        "        self.y_true_label = label(self.y_true)\n",
        "        self.y_pred_label = label(self.y_pred)\n",
        "\n",
        "    def get_count(self):\n",
        "        count_y_true = np.max(self.y_true_label)\n",
        "        count_y_pred = np.max(self.y_pred_label)\n",
        "        if count_y_pred == 0 or count_y_true == 0:\n",
        "            return 0.0\n",
        "        else:\n",
        "            return min(count_y_true/count_y_pred, count_y_pred/count_y_true)\n",
        "\n",
        "    def get_f1(self, y_true=None, y_pred=None):\n",
        "        if y_true is None:\n",
        "            y_true = self.y_true\n",
        "        if y_pred is None:\n",
        "            y_pred = self.y_pred\n",
        "            \n",
        "        if y_true.max() == 0 and y_pred.max()==0:\n",
        "            return 0.0 \n",
        "            \n",
        "        tp, fp, _, fn = self.confusion_matrix(y_true, y_pred)\n",
        "        f1 = 2*tp / (2*tp +fp + fn)\n",
        "        return f1\n",
        "        \n",
        "    def get_iou(self, y_true=None, y_pred=None):\n",
        "        if y_true is None:\n",
        "            y_true = self.y_true\n",
        "        if y_pred is None:\n",
        "            y_pred = self.y_pred\n",
        "            \n",
        "        if y_true.max() == 0 and y_pred.max()==0:\n",
        "            return 0.0 \n",
        "            \n",
        "        tp, fp, _, fn = self.confusion_matrix(y_true, y_pred)\n",
        "        f1 = tp / (tp +fp + fn)\n",
        "        return f1\n",
        "\n",
        "    def get_hausdroff_dist(self, y_true=None, y_pred=None):\n",
        "        if y_true is None:\n",
        "            y_true = self.y_true\n",
        "        if y_pred is None:\n",
        "            y_pred = self.y_pred\n",
        "        \n",
        "        if y_true.max() == 0 or y_pred.max() == 0:\n",
        "            haus_dist = np.sqrt(y_true.shape[0]*y_true.shape[1])\n",
        "        else:\n",
        "            haus_dist = hausdorff_distance(y_true, y_pred)\n",
        "        return haus_dist\n",
        "\n",
        "    def get_iou_obj(self):\n",
        "        iou_obj = 0\n",
        "        total_y_pred = max(np.bincount(self.y_pred.flatten(),minlength=2)[1],1)\n",
        "        total_y_true = max(np.bincount(self.y_true.flatten(), minlength=2)[1],1)\n",
        "\n",
        "        for idx in range(1, self.y_true_label.max()+1):\n",
        "            gi, si = self._get_overlap(idx, return_rectangle=False, y_true_p_switch=False)\n",
        "            iou = (np.bincount(gi.flatten(), minlength=2)[1]/total_y_true)*self.get_iou(y_true=gi, y_pred=si)\n",
        "            iou_obj += iou\n",
        "\n",
        "        for idx in range(1, self.y_pred_label.max()+1):\n",
        "            si, gi = self._get_overlap(idx, return_rectangle=False, y_true_p_switch=True)\n",
        "            iou = (np.bincount(si.flatten(), minlength=2)[1]/total_y_pred)*self.get_iou(y_true=si, y_pred=gi)\n",
        "            iou_obj += iou\n",
        "\n",
        "        iou_obj /= 2\n",
        "\n",
        "        return iou_obj\n",
        "\n",
        "\n",
        "    def get_f1_obj(self):\n",
        "        f1_obj = 0\n",
        "        total_y_pred = max(np.bincount(self.y_pred.flatten(),minlength=2)[1],1)\n",
        "        total_y_true = max(np.bincount(self.y_true.flatten(), minlength=2)[1],1)\n",
        "\n",
        "        for idx in range(1, self.y_true_label.max()+1):\n",
        "            gi, si = self._get_overlap(idx, return_rectangle=False, y_true_p_switch=False)\n",
        "            f1 = (np.bincount(gi.flatten(), minlength=2)[1]/total_y_true)*self.get_f1(y_true=gi, y_pred=si)\n",
        "            f1_obj += f1\n",
        "\n",
        "        for idx in range(1, self.y_pred_label.max()+1):\n",
        "            si, gi = self._get_overlap(idx, return_rectangle=False, y_true_p_switch=True)\n",
        "            f1 = (np.bincount(si.flatten(), minlength=2)[1]/total_y_pred)*self.get_f1(y_true=si, y_pred=gi)\n",
        "            f1_obj += f1\n",
        "\n",
        "        f1_obj /= 2\n",
        "\n",
        "        return f1_obj\n",
        "\n",
        "\n",
        "    def get_hausdorff_obj_distance(self):\n",
        "        haus_dist_obj = 0\n",
        "        total_p = np.bincount(self.y_pred.flatten(), minlength=2)[1]\n",
        "        total_y_true = np.bincount(self.y_true.flatten(), minlength=2)[1]\n",
        "        \n",
        "        if total_y_true == 0 or total_p == 0:\n",
        "            # Note this conversion is different from\n",
        "            # https://warwick.ac.uk/fac/sci/dcs/research/tia/glascontest/evaluation/\n",
        "            # But the Hausdorff distance is not defined for non-overlapping objects.\n",
        "            # Note that the distance of sqrt(h^2+w^2) is an arbary choice.\n",
        "            # 0.0 would skew the distance to much to the positive side, and\n",
        "            # infinite is misleading. \n",
        "            # In case both objects are empty, we return the max dist of y_true\n",
        "            return np.sqrt(self.y_true.shape[0]**2+self.y_true.shape[1]**2)\n",
        "\n",
        "        for idx in range(1, self.y_true_label.max()+1):\n",
        "            gi, si = self._get_overlap(idx, return_rectangle=True, y_true_p_switch=False)\n",
        "            if gi.max() == 0 or si.max() == 0:\n",
        "                haus_dist = ((gi.shape[0]*gi.shape[1])/total_y_true)*np.sqrt(gi.shape[0]**2+gi.shape[1]**2)\n",
        "            else:\n",
        "                haus_dist = (np.bincount(gi.flatten())[1]/total_y_true)*self.get_hausdroff_dist(y_true=gi, y_pred=si)\n",
        "            haus_dist_obj += haus_dist\n",
        "\n",
        "        for idx in range(1, self.y_pred_label.max()+1):\n",
        "            si, gi = self._get_overlap(idx, return_rectangle=True, y_true_p_switch=True)\n",
        "            if gi.max() == 0 or si.max() == 0:\n",
        "                haus_dist = ((si.shape[0]*si.shape[1])/total_p)*np.sqrt(si.shape[0]**2+si.shape[1]**2)\n",
        "            else:\n",
        "                haus_dist = (np.bincount(si.flatten())[1]/total_p)*self.get_hausdroff_dist(y_true=gi, y_pred=si)\n",
        "            haus_dist_obj += haus_dist\n",
        "\n",
        "        haus_dist_obj /= 2\n",
        "        return haus_dist_obj\n",
        "\n",
        "    def confusion_matrix(self, y_true, y_pred):\n",
        "        y_true= y_true.flatten()\n",
        "        y_pred = y_pred.flatten()*2\n",
        "        cm = y_true+y_pred\n",
        "        cm = np.bincount(cm, minlength=4)\n",
        "        tn, fp, fn, tp = cm\n",
        "        return tp, fp, tn, fn\n",
        "    \n",
        "    def _get_overlap(self, idx, return_rectangle=False, y_true_p_switch=False):\n",
        "        if y_true_p_switch:\n",
        "            y_pred = self.y_true_label\n",
        "            y_true = self.y_pred_label\n",
        "        else:\n",
        "            y_true = self.y_true_label\n",
        "            y_pred = self.y_pred_label\n",
        "\n",
        "        roi_y_true = np.argwhere(y_true == idx)\n",
        "        roi_y_pred = y_pred[roi_y_true[:,0],roi_y_true[:,1]]\n",
        "\n",
        "        # Finds max overlap, excluding background\n",
        "        matching_idx = np.bincount(roi_y_pred)\n",
        "        if len(matching_idx)<=1:\n",
        "            matching_idx = -1\n",
        "        else:\n",
        "            matching_idx = matching_idx[1:].argmax()+1\n",
        "        if return_rectangle:\n",
        "            bbox, _, _ = self._bounding_box(roi_y_true, at_origon=False)\n",
        "            roi_y_true = y_true[bbox[0]:bbox[2]+1,bbox[1]:bbox[3]+1]\n",
        "            roi_y_pred = y_pred[bbox[0]:bbox[2]+1,bbox[1]:bbox[3]+1]\n",
        "            roi_y_true =(roi_y_true==idx)*1\n",
        "\n",
        "        else:\n",
        "            roi_y_true =np.ones((len(roi_y_true)),dtype=int)\n",
        "        roi_y_pred =(roi_y_pred==matching_idx)*1\n",
        "\n",
        "        if y_true_p_switch:\n",
        "            return roi_y_true, roi_y_pred\n",
        "        else:\n",
        "            return roi_y_pred, roi_y_true\n",
        "\n",
        "    def _bounding_box(self, points, at_origon=False):\n",
        "        bbox = [min(points[:,0]), min(points[:,1]), max(points[:,0]), max(points[:,1])]\n",
        "        min_x = bbox[0]\n",
        "        min_y = bbox[1]\n",
        "        if at_origon:\n",
        "            bbox = [bbox[0] - min_x,\n",
        "                    bbox[1] - min_y,\n",
        "                    bbox[2] - min_x,\n",
        "                    bbox[3] - min_y]\n",
        "        return bbox, min_x, min_y\n",
        "        "
      ],
      "execution_count": 48,
      "outputs": []
    },
    {
      "cell_type": "code",
      "metadata": {
        "colab": {
          "base_uri": "https://localhost:8080/"
        },
        "id": "5xeuUQemqs3Z",
        "outputId": "00085b44-c6ab-4e69-eb5d-c081301a9b87"
      },
      "source": [
        "\n",
        "metrics = BinaryImageMetrics(true_mask, predicted_cells)\n",
        "count = metrics.get_count()\n",
        "print(f\"Count ratio is: {count}\")\n",
        "f1 = metrics.get_f1()\n",
        "print(f\"F1 score is : {f1}\")\n",
        "f1_obj = metrics.get_f1_obj()\n",
        "print(f\"F1 object score is: {f1_obj}\")\n",
        "iou = metrics.get_iou()\n",
        "print(f\"IoU score is : {iou}\")\n",
        "iou_obj = metrics.get_iou_obj()\n",
        "print(f\"IoU object score is : {iou_obj}\")\n",
        "hausdorff_obj_distance = metrics.get_hausdorff_obj_distance()\n",
        "print(f\"Hausdroff object distance score is : {hausdorff_obj_distance}\")"
      ],
      "execution_count": 51,
      "outputs": [
        {
          "output_type": "stream",
          "text": [
            "Count ratio is: 0.1111111111111111\n",
            "F1 score is : 0.7232209359574817\n",
            "F1 object score is: 0.6470750080643631\n",
            "IoU score is : 0.5664417253738722\n",
            "IoU object score is : 0.586218020022247\n",
            "Hausdroff object distance score is : 304.3998190169725\n"
          ],
          "name": "stdout"
        }
      ]
    },
    {
      "cell_type": "code",
      "metadata": {
        "id": "-D6i7h-7mRrM"
      },
      "source": [
        "# pick one image from the test set\n",
        "img, _ = dataset_test[0]\n",
        "# put the model in evaluation mode\n",
        "model.eval()\n",
        "with torch.no_grad():\n",
        "    prediction = model([img.to(device)])"
      ],
      "execution_count": null,
      "outputs": []
    },
    {
      "cell_type": "code",
      "metadata": {
        "id": "1Ds9GZ2LmTq_"
      },
      "source": [
        "#prediction"
      ],
      "execution_count": null,
      "outputs": []
    },
    {
      "cell_type": "code",
      "metadata": {
        "id": "JYW7Aag4Du4o"
      },
      "source": [
        "img_np = prediction[0]['masks'][:, 0].mul(255).permute(1, 2, 0).byte().cpu().numpy()\n",
        "print(img_np.shape)\n",
        "predicted_cells = None\n",
        "for i in range(0,img_np.shape[2]):\n",
        "  img = img_np[:,:,i]\n",
        "  if i != 0:\n",
        "    predicted_cells = np.bitwise_or(predicted_cells,img)\n",
        "  else:\n",
        "    predicted_cells = mask\n",
        "\n",
        "plt.imshow(predicted_cells,cmap='gray')\n",
        "plt.show()"
      ],
      "execution_count": null,
      "outputs": []
    },
    {
      "cell_type": "code",
      "metadata": {
        "id": "vkiYCNnXmWMg"
      },
      "source": [
        "Image.fromarray(img.mul(255).permute(1, 2, 0).byte().numpy())"
      ],
      "execution_count": null,
      "outputs": []
    },
    {
      "cell_type": "code",
      "metadata": {
        "id": "J3YJAUbcmYDv"
      },
      "source": [
        "Image.fromarray(prediction[0]['masks'][0, 0].mul(255).byte().cpu().numpy())"
      ],
      "execution_count": null,
      "outputs": []
    },
    {
      "cell_type": "code",
      "metadata": {
        "id": "vz8UJZ-pUbPS"
      },
      "source": [
        "  # display images\n",
        "Image.fromarray(prediction[0]['masks'][1, 0].mul(255).byte().cpu().numpy()) "
      ],
      "execution_count": null,
      "outputs": []
    },
    {
      "cell_type": "code",
      "metadata": {
        "id": "vqMKKws1zz2y"
      },
      "source": [
        "  # display images\n",
        "Image.fromarray(prediction[0]['masks'][2, 0].mul(255).byte().cpu().numpy()) "
      ],
      "execution_count": null,
      "outputs": []
    },
    {
      "cell_type": "code",
      "metadata": {
        "id": "sJ0jdQpiJIel"
      },
      "source": [
        "img2 = dataset_test.dataset.masks[15]\n",
        "img2 = Image.open(img2)\n",
        "plt.imshow(img2)\n"
      ],
      "execution_count": null,
      "outputs": []
    },
    {
      "cell_type": "code",
      "metadata": {
        "id": "VEk84CR4fZjz"
      },
      "source": [
        "print(len(prediction[0]['masks']))\n",
        "print(len(prediction[0]['scores']))\n",
        "print(prediction[0]['scores'])"
      ],
      "execution_count": null,
      "outputs": []
    },
    {
      "cell_type": "code",
      "metadata": {
        "id": "KrtNCZjX0iwN"
      },
      "source": [
        "#draw contours\n",
        "\"\"\"\n",
        "img_cv = cv2.imread('input.jpg', cv2.COLOR_BGR2RGB)\n",
        "\n",
        "for i in range(len(prediction[0]['masks'])):\n",
        "    # iterate over masks\n",
        "    mask = prediction[0]['masks'][i, 0]\n",
        "    mask = mask.mul(255).byte().cpu().numpy()\n",
        "    contours, _ = cv2.findContours(\n",
        "            mask.copy(), cv2.RETR_CCOMP, cv2.CHAIN_APPROX_NONE)\n",
        "    cv2.drawContours(img_cv, contours, -1, (255, 0, 0), 2, cv2.LINE_AA)\n",
        "\n",
        "cv2.imshow('img output', img_cv)\n",
        "\"\"\""
      ],
      "execution_count": null,
      "outputs": []
    },
    {
      "cell_type": "code",
      "metadata": {
        "id": "AxbZGFNDTzQc"
      },
      "source": [
        "# pick one image from the test set\n",
        "dataset_test[0]\n"
      ],
      "execution_count": null,
      "outputs": []
    },
    {
      "cell_type": "code",
      "metadata": {
        "id": "Nw-75PsWV93d"
      },
      "source": [
        "# pick one image from the test set\n",
        "img2, _ = dataset_test[1]\n",
        "# put the model in evaluation mode\n",
        "model.eval()\n",
        "with torch.no_grad():\n",
        "    prediction = model([img2.to(device)])"
      ],
      "execution_count": null,
      "outputs": []
    },
    {
      "cell_type": "code",
      "metadata": {
        "id": "r5DLJtWnWElk"
      },
      "source": [
        "prediction"
      ],
      "execution_count": null,
      "outputs": []
    },
    {
      "cell_type": "code",
      "metadata": {
        "id": "Kfy6bq10WL5C"
      },
      "source": [
        "Image.fromarray(img2.mul(255).permute(1, 2, 0).byte().numpy())"
      ],
      "execution_count": null,
      "outputs": []
    },
    {
      "cell_type": "code",
      "metadata": {
        "id": "KLLqNGajWPes"
      },
      "source": [
        "len(prediction[0].get('boxes'))"
      ],
      "execution_count": null,
      "outputs": []
    }
  ]
}